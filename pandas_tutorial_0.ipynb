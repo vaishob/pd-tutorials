{
 "cells": [
  {
   "cell_type": "markdown",
   "id": "744e7ff5",
   "metadata": {},
   "source": [
    "# Pandas Tutorial 0: Life Without Pandas\n",
    "\n",
    "The purpose of this notebook is to demonstrate how difficult and inconvenient it can be to obtain insights from datasets without using Pandas.\n",
    "\n",
    "We will explore the following tasks:\n",
    "1) Finding the **maximum temperature** in New York during the month of **January**\n",
    "2) Listing the **days when it rained**\n",
    "3) Calculating the **average wind speed** in New York during the month of January\n",
    "\n",
    "This comparison sets the stage for understanding the advantages of using Pandas for data analysis."
   ]
  },
  {
   "cell_type": "code",
   "execution_count": 4,
   "id": "c7b8d78a",
   "metadata": {
    "scrolled": true
   },
   "outputs": [
    {
     "name": "stdout",
     "output_type": "stream",
     "text": [
      "Max temperature is:  50\n",
      "Days of rain:  ['1/9/2016', '1/10/2016', '1/16/2016', '1/27/2016']\n",
      "Average wind speed is:  6.225806451612903\n"
     ]
    }
   ],
   "source": [
    "def parse_csv():\n",
    "    import csv\n",
    "    __file_path = \"C:\\\\Users\\\\Vaishob\\\\PycharmProjects\\\\pandas\\\\nyc_weather.csv\"\n",
    "    __index = {\n",
    "        'date': 0,\n",
    "        'temperature': 1, \n",
    "        'DewPoint': 2, \n",
    "        'Humidity': 3, \n",
    "        'Sea_Level_PressureIn': 4,\n",
    "        'VisibilityMiles': 5,\n",
    "        'WindSpeedMPH': 6,\n",
    "        'PrecipitationIn': 7,\n",
    "        'CloudCover': 8,\n",
    "        'Events': 9, \n",
    "        'WindDirDegrees': 10\n",
    "    }\n",
    "    \n",
    "    global __parsed_rows\n",
    "    __parsed_rows = []\n",
    "    \n",
    "    with open(__file_path, \"r\") as f:\n",
    "        reader = csv.reader(f)\n",
    "        next(reader, None)\n",
    "        for row in reader:\n",
    "            __parsed_rows.append({\n",
    "                'date': row[__index['date']],\n",
    "                'temperature': row[__index['temperature']],\n",
    "                'DewPoint': row[__index['DewPoint']],\n",
    "                'Humidity': row[__index['Humidity']],\n",
    "                'Sea_Level_PressureIn': row[__index['Sea_Level_PressureIn']],\n",
    "                'VisibilityMiles': row[__index['VisibilityMiles']],\n",
    "                'WindSpeedMPH': row[__index['WindSpeedMPH']],\n",
    "                'PrecipitationIn': row[__index['PrecipitationIn']],\n",
    "                'CloudCover': row[__index['CloudCover']],\n",
    "                'Events': row[__index['Events']],\n",
    "                'WindDirDegrees': row[__index['WindDirDegrees']]\n",
    "            })\n",
    "            \n",
    "def get_days_for_event(event_name):\n",
    "    days = []\n",
    "    for row in __parsed_rows:\n",
    "        if row['Events'] == event_name:\n",
    "            days.append(row['date'])\n",
    "    return days\n",
    "\n",
    "def get_max_temperature():\n",
    "    max_temp = 0\n",
    "    for row in __parsed_rows:\n",
    "        if int(row['temperature']) > max_temp:\n",
    "            max_temp = int(row['temperature'])\n",
    "    return max_temp\n",
    "\n",
    "def get_average_wind_speed():\n",
    "    total = 0\n",
    "    count = 0\n",
    "    for row in __parsed_rows:\n",
    "        speed = row.get('WindSpeedMPH', '').strip()\n",
    "        if speed == '':\n",
    "            speed = 0\n",
    "        else:\n",
    "            speed = int(speed)\n",
    "        total += speed\n",
    "        count += 1\n",
    "    return total / count if count != 0 else 0\n",
    "\n",
    "if __name__ == \"__main__\":\n",
    "    parse_csv()\n",
    "    \n",
    "    print(\"Max temperature is: \", get_max_temperature())\n",
    "    print(\"Days of rain: \", get_days_for_event('Rain'))\n",
    "    print(\"Average wind speed is: \", get_average_wind_speed())\n",
    "        "
   ]
  },
  {
   "cell_type": "code",
   "execution_count": null,
   "id": "07822ee7",
   "metadata": {},
   "outputs": [],
   "source": []
  }
 ],
 "metadata": {
  "kernelspec": {
   "display_name": "Python 3 (ipykernel)",
   "language": "python",
   "name": "python3"
  },
  "language_info": {
   "codemirror_mode": {
    "name": "ipython",
    "version": 3
   },
   "file_extension": ".py",
   "mimetype": "text/x-python",
   "name": "python",
   "nbconvert_exporter": "python",
   "pygments_lexer": "ipython3",
   "version": "3.11.7"
  }
 },
 "nbformat": 4,
 "nbformat_minor": 5
}
