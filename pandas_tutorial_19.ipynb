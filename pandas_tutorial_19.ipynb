{
 "cells": [
  {
   "cell_type": "markdown",
   "id": "022d640f",
   "metadata": {},
   "source": [
    "## Pandas Tutorial 19: Time Series Analysis: Period and PeriodIndex\n",
    "This tutorial continues pandas time series analysis by introducing period and periodIndex. Periods are time duration used to represent many concepts in finance. Pandas provide rich support for period arithmetic. You can create quarterly, yearly, annual etc. periods and perform arithmetic on them. `period_range` can be used to create `periodIndex` between specified start and end.\n",
    "\n",
    "#### Topics covered:\n",
    "* **What is time stamp?**\n",
    "* **What is time span?**\n",
    "* **Use `period()` function**\n",
    "* **Arithmetic operations on period objcets**\n",
    "* **Create quarterly time period**\n",
    "* **Use `asfreq()` function**\n",
    "* **List of all frequency**\n",
    "* **Create `periodIndex`**\n",
    "* **Use asfreq() function**\n",
    "* **List of all frequency**\n",
    "* **Create periodIndex**\n",
    "* **Convert periodIndex to datetimeindex**\n",
    "* **Convert datetimeindex to periodindex**\n",
    "* **Use set_index() function**\n",
    "* **Convert index to periodindex using PeriodIndex()**\n",
    "* **Create new columns in dataframe**"
   ]
  },
  {
   "cell_type": "code",
   "execution_count": null,
   "id": "26cb9a8b",
   "metadata": {},
   "outputs": [],
   "source": []
  }
 ],
 "metadata": {
  "kernelspec": {
   "display_name": "Python 3 (ipykernel)",
   "language": "python",
   "name": "python3"
  },
  "language_info": {
   "codemirror_mode": {
    "name": "ipython",
    "version": 3
   },
   "file_extension": ".py",
   "mimetype": "text/x-python",
   "name": "python",
   "nbconvert_exporter": "python",
   "pygments_lexer": "ipython3",
   "version": "3.11.7"
  }
 },
 "nbformat": 4,
 "nbformat_minor": 5
}
