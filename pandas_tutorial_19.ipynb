{
 "cells": [
  {
   "cell_type": "markdown",
   "id": "022d640f",
   "metadata": {},
   "source": [
    "## Pandas Tutorial 19: Time Series Analysis: Period and PeriodIndex\n",
    "In this tutorial, we continue exploring Pandas time series analysis by introducing `Period` and `PeriodIndex`. Periods represent specific time durations, widely used in financial analysis. Pandas offers robust support for period arithmetic, allowing you to create quarterly, yearly, and other time periods, and perform various operations on them. You can use `period_range` to generate a `PeriodIndex` between a defined start and end.\n",
    "\n",
    "#### Topics covered:\n",
    "* **What is a timestamp?**\n",
    "* **What is a timespan?**\n",
    "* **Using the `period()` function**\n",
    "* **Arithmetic operations on period objects**\n",
    "* **Creating quarterly time periods**\n",
    "* **Using the `asfreq()` function**\n",
    "* **List of all frequencies**\n",
    "* **Creating a `PeriodIndex`**\n",
    "* **Converting a `PeriodIndex` to a `DatetimeIndex`**\n",
    "* **Converting a `DatetimeIndex` to a `PeriodIndex`**\n",
    "* **Using `set_index()` with periods**\n",
    "* **Converting an index to `PeriodIndex` using `PeriodIndex()`**\n",
    "* **Creating new columns in a DataFrame**\n",
    "\n",
    "This tutorial will guide you through working with time periods and period indexing in Pandas for advanced time series analysis."
   ]
  },
  {
   "cell_type": "code",
   "execution_count": 2,
   "id": "bd96f743",
   "metadata": {},
   "outputs": [],
   "source": [
    "import pandas as pd\n",
    "import numpy as np"
   ]
  },
  {
   "cell_type": "markdown",
   "id": "77e2bc7b",
   "metadata": {},
   "source": [
    "## Yearly Period\n",
    "\n",
    "In Pandas, a `Period` object represents a span of time, such as a year, month, or quarter. \n",
    "\n",
    "Here, we create a yearly period for 2016 and explore some of its properties - `start_time`, `end_time`, and `is_leap_year`"
   ]
  },
  {
   "cell_type": "code",
   "execution_count": 3,
   "id": "cabee673",
   "metadata": {},
   "outputs": [
    {
     "data": {
      "text/plain": [
       "Period('2016', 'A-DEC')"
      ]
     },
     "execution_count": 3,
     "metadata": {},
     "output_type": "execute_result"
    }
   ],
   "source": [
    "# Creates a yearly period for 2016\n",
    "y = pd.Period('2016')\n",
    "y"
   ]
  },
  {
   "cell_type": "code",
   "execution_count": 4,
   "id": "edf34f5e",
   "metadata": {},
   "outputs": [
    {
     "data": {
      "text/plain": [
       "Timestamp('2016-01-01 00:00:00')"
      ]
     },
     "execution_count": 4,
     "metadata": {},
     "output_type": "execute_result"
    }
   ],
   "source": [
    "y.start_time"
   ]
  },
  {
   "cell_type": "code",
   "execution_count": 5,
   "id": "a43586b7",
   "metadata": {},
   "outputs": [
    {
     "data": {
      "text/plain": [
       "Timestamp('2016-12-31 23:59:59.999999999')"
      ]
     },
     "execution_count": 5,
     "metadata": {},
     "output_type": "execute_result"
    }
   ],
   "source": [
    "y.end_time"
   ]
  },
  {
   "cell_type": "code",
   "execution_count": 6,
   "id": "bf6d73a8",
   "metadata": {},
   "outputs": [
    {
     "data": {
      "text/plain": [
       "True"
      ]
     },
     "execution_count": 6,
     "metadata": {},
     "output_type": "execute_result"
    }
   ],
   "source": [
    "y.is_leap_year"
   ]
  },
  {
   "cell_type": "markdown",
   "id": "78ffb520",
   "metadata": {},
   "source": [
    "## Monthly Period\n",
    "\n",
    "A `Period` object can also represent smaller spans of time, such as months. \n",
    "\n",
    "Here, we create a monthly period for December 2017 and examine its start and end times. We also demonstrate how to perform arithmetic operations with periods, such as shifting to the next month."
   ]
  },
  {
   "cell_type": "code",
   "execution_count": 7,
   "id": "353f32b0",
   "metadata": {},
   "outputs": [
    {
     "data": {
      "text/plain": [
       "Period('2017-12', 'M')"
      ]
     },
     "execution_count": 7,
     "metadata": {},
     "output_type": "execute_result"
    }
   ],
   "source": [
    "# Creates a monthly period for December 2017\n",
    "m = pd.Period('2017-12')\n",
    "m"
   ]
  },
  {
   "cell_type": "code",
   "execution_count": 8,
   "id": "cf407cc6",
   "metadata": {},
   "outputs": [
    {
     "data": {
      "text/plain": [
       "Timestamp('2017-12-01 00:00:00')"
      ]
     },
     "execution_count": 8,
     "metadata": {},
     "output_type": "execute_result"
    }
   ],
   "source": [
    "m.start_time"
   ]
  },
  {
   "cell_type": "code",
   "execution_count": 9,
   "id": "8952045d",
   "metadata": {},
   "outputs": [
    {
     "data": {
      "text/plain": [
       "Timestamp('2017-12-31 23:59:59.999999999')"
      ]
     },
     "execution_count": 9,
     "metadata": {},
     "output_type": "execute_result"
    }
   ],
   "source": [
    "m.end_time"
   ]
  },
  {
   "cell_type": "markdown",
   "id": "ae54e761",
   "metadata": {},
   "source": [
    "**December 2017 → January 2018**"
   ]
  },
  {
   "cell_type": "code",
   "execution_count": 10,
   "id": "d06ffcbd",
   "metadata": {},
   "outputs": [
    {
     "data": {
      "text/plain": [
       "Period('2018-01', 'M')"
      ]
     },
     "execution_count": 10,
     "metadata": {},
     "output_type": "execute_result"
    }
   ],
   "source": [
    "# Shifts the period forward by one month (January 2018)\n",
    "m+1"
   ]
  },
  {
   "cell_type": "markdown",
   "id": "1ffe4a6c",
   "metadata": {},
   "source": [
    "## Daily Period\n",
    "\n",
    "`Period` objects can also be at the daily level as well. Here, we create a daily period for February 28, 2016, and explore its start and end times. \n",
    "\n",
    "Additionally, we show how to perform arithmetic operations with periods by shifting the period to the next day."
   ]
  },
  {
   "cell_type": "code",
   "execution_count": 11,
   "id": "101c31fd",
   "metadata": {},
   "outputs": [
    {
     "data": {
      "text/plain": [
       "Period('2016-02-28', 'D')"
      ]
     },
     "execution_count": 11,
     "metadata": {},
     "output_type": "execute_result"
    }
   ],
   "source": [
    "# Creates a daily period for February 28, 2016\n",
    "d = pd.Period('2016-02-28', freq='D')\n",
    "d"
   ]
  },
  {
   "cell_type": "code",
   "execution_count": 12,
   "id": "083545f5",
   "metadata": {},
   "outputs": [
    {
     "data": {
      "text/plain": [
       "Timestamp('2016-02-28 00:00:00')"
      ]
     },
     "execution_count": 12,
     "metadata": {},
     "output_type": "execute_result"
    }
   ],
   "source": [
    "d.start_time"
   ]
  },
  {
   "cell_type": "code",
   "execution_count": 13,
   "id": "f7c3cf25",
   "metadata": {},
   "outputs": [
    {
     "data": {
      "text/plain": [
       "Timestamp('2016-02-28 23:59:59.999999999')"
      ]
     },
     "execution_count": 13,
     "metadata": {},
     "output_type": "execute_result"
    }
   ],
   "source": [
    "d.end_time"
   ]
  },
  {
   "cell_type": "markdown",
   "id": "2b03c3e8",
   "metadata": {},
   "source": [
    "**February 28 → February 29**"
   ]
  },
  {
   "cell_type": "code",
   "execution_count": 14,
   "id": "2c15a3aa",
   "metadata": {},
   "outputs": [
    {
     "data": {
      "text/plain": [
       "Period('2016-02-29', 'D')"
      ]
     },
     "execution_count": 14,
     "metadata": {},
     "output_type": "execute_result"
    }
   ],
   "source": [
    "# Shifts the period forward by one day \n",
    "d+1"
   ]
  },
  {
   "cell_type": "markdown",
   "id": "dba5849f",
   "metadata": {},
   "source": [
    "## Hourly Period\n",
    "\n",
    "In addition to daily and monthly periods, Pandas allows you to work with periods at the hourly level. \n",
    "\n",
    "Here, we create an hourly period for 11:00 PM on August 15, 2017, and demonstrate how to shift it by one hour. We also show how to achieve the same result  using `pandas` offsets."
   ]
  },
  {
   "cell_type": "code",
   "execution_count": 15,
   "id": "b3c61063",
   "metadata": {},
   "outputs": [
    {
     "data": {
      "text/plain": [
       "Period('2017-08-15 23:00', 'H')"
      ]
     },
     "execution_count": 15,
     "metadata": {},
     "output_type": "execute_result"
    }
   ],
   "source": [
    "# Creates an hourly period for 11 PM, August 15, 2017\n",
    "h = pd.Period('2017-08-15 23:00:00', freq='H')\n",
    "h"
   ]
  },
  {
   "cell_type": "code",
   "execution_count": 16,
   "id": "84e8206a",
   "metadata": {},
   "outputs": [
    {
     "data": {
      "text/plain": [
       "Period('2017-08-16 00:00', 'H')"
      ]
     },
     "execution_count": 16,
     "metadata": {},
     "output_type": "execute_result"
    }
   ],
   "source": [
    "# Shifts the period by one hour (Midnight, August 16, 2017)\n",
    "h+1"
   ]
  },
  {
   "cell_type": "markdown",
   "id": "990c72c1",
   "metadata": {},
   "source": [
    "**Achieve same results using pandas offsets hour**\n",
    "\n",
    "You can also use Pandas offsets to shift periods. Here's how to add one hour using the `pd.offsets.Hour()` method."
   ]
  },
  {
   "cell_type": "code",
   "execution_count": 17,
   "id": "bd4c21b0",
   "metadata": {},
   "outputs": [
    {
     "data": {
      "text/plain": [
       "Period('2017-08-16 00:00', 'H')"
      ]
     },
     "execution_count": 17,
     "metadata": {},
     "output_type": "execute_result"
    }
   ],
   "source": [
    "# Shifts the period forward by one hour\n",
    "h+pd.offsets.Hour(1)"
   ]
  },
  {
   "cell_type": "markdown",
   "id": "79bf45d9",
   "metadata": {},
   "source": [
    "## Quarterly Period\n",
    "\n",
    "Here, we create a quarterly period representing the first quarter of 2017, with the quarter ending in January (denoted by `freq='Q-JAN'`). We then explore the start and end times of this quarter and use the `asfreq()` method to convert the quarterly period to a monthly frequency."
   ]
  },
  {
   "cell_type": "code",
   "execution_count": 18,
   "id": "adb915c1",
   "metadata": {},
   "outputs": [
    {
     "data": {
      "text/plain": [
       "Period('2017Q1', 'Q-JAN')"
      ]
     },
     "execution_count": 18,
     "metadata": {},
     "output_type": "execute_result"
    }
   ],
   "source": [
    "# Creates a quarterly period of Q1 2017 with the quarter ending in January\n",
    "q1 = pd.Period('2017Q1', freq='Q-JAN')\n",
    "q1"
   ]
  },
  {
   "cell_type": "code",
   "execution_count": 19,
   "id": "08a96455",
   "metadata": {},
   "outputs": [
    {
     "data": {
      "text/plain": [
       "Timestamp('2016-02-01 00:00:00')"
      ]
     },
     "execution_count": 19,
     "metadata": {},
     "output_type": "execute_result"
    }
   ],
   "source": [
    "q1.start_time"
   ]
  },
  {
   "cell_type": "code",
   "execution_count": 20,
   "id": "b030c4f9",
   "metadata": {},
   "outputs": [
    {
     "data": {
      "text/plain": [
       "Timestamp('2016-04-30 23:59:59.999999999')"
      ]
     },
     "execution_count": 20,
     "metadata": {},
     "output_type": "execute_result"
    }
   ],
   "source": [
    "q1.end_time"
   ]
  },
  {
   "cell_type": "markdown",
   "id": "ab526a0a",
   "metadata": {},
   "source": [
    "**Use asfreq to convert period to a different frequency**\n",
    "\n",
    "The `asfreq()` method allows you to convert the period to a different frequency. \n",
    "\n",
    "Here, we convert the quarterly period to a monthly frequency and specify whether to return the start or end of the month."
   ]
  },
  {
   "cell_type": "code",
   "execution_count": 21,
   "id": "f54a649a",
   "metadata": {},
   "outputs": [
    {
     "data": {
      "text/plain": [
       "Period('2016-02', 'M')"
      ]
     },
     "execution_count": 21,
     "metadata": {},
     "output_type": "execute_result"
    }
   ],
   "source": [
    "# Converts to the first month in the quarter (February 2016)\n",
    "q1.asfreq('M', how='start')"
   ]
  },
  {
   "cell_type": "code",
   "execution_count": 50,
   "id": "fdce6250",
   "metadata": {},
   "outputs": [
    {
     "data": {
      "text/plain": [
       "Period('2016-04', 'M')"
      ]
     },
     "execution_count": 50,
     "metadata": {},
     "output_type": "execute_result"
    }
   ],
   "source": [
    "# Converts to the last month in the qaurter (April 2016)\n",
    "q1.asfreq('M', how='end')"
   ]
  },
  {
   "cell_type": "markdown",
   "id": "4dc7f8dd",
   "metadata": {},
   "source": [
    "## Weekly Period\n",
    "\n",
    "Here, we create a weekly period for July 5, 2017, and demonstrate how to perform period arithmetic by subtracting weeks. We also calculate the difference between two weekly periods to see how many weeks apart they are."
   ]
  },
  {
   "cell_type": "code",
   "execution_count": 23,
   "id": "af9383e2",
   "metadata": {},
   "outputs": [
    {
     "data": {
      "text/plain": [
       "Period('2017-07-03/2017-07-09', 'W-SUN')"
      ]
     },
     "execution_count": 23,
     "metadata": {},
     "output_type": "execute_result"
    }
   ],
   "source": [
    "# Creates a weekly period starting on July 5, 2017\n",
    "w = pd.Period('2017-07-05', freq='W')\n",
    "w"
   ]
  },
  {
   "cell_type": "code",
   "execution_count": 24,
   "id": "7138dcf0",
   "metadata": {},
   "outputs": [
    {
     "data": {
      "text/plain": [
       "Period('2017-06-26/2017-07-02', 'W-SUN')"
      ]
     },
     "execution_count": 24,
     "metadata": {},
     "output_type": "execute_result"
    }
   ],
   "source": [
    "# Subtracts one week from the period (returns the previous week)\n",
    "w-1"
   ]
  },
  {
   "cell_type": "markdown",
   "id": "0bc2ed5d",
   "metadata": {},
   "source": [
    "You can create another weekly period and find the difference between the two periods:"
   ]
  },
  {
   "cell_type": "code",
   "execution_count": 25,
   "id": "ae3dc87a",
   "metadata": {
    "scrolled": true
   },
   "outputs": [
    {
     "data": {
      "text/plain": [
       "Period('2017-08-14/2017-08-20', 'W-SUN')"
      ]
     },
     "execution_count": 25,
     "metadata": {},
     "output_type": "execute_result"
    }
   ],
   "source": [
    "# Creates another weekly period starting on August 15, 2017\n",
    "w2 = pd.Period('2017-08-15', freq='W')\n",
    "w2"
   ]
  },
  {
   "cell_type": "code",
   "execution_count": 26,
   "id": "1d3ec3bb",
   "metadata": {},
   "outputs": [
    {
     "data": {
      "text/plain": [
       "<6 * Weeks: weekday=6>"
      ]
     },
     "execution_count": 26,
     "metadata": {},
     "output_type": "execute_result"
    }
   ],
   "source": [
    "# Calculates the difference between the two periods in weeks\n",
    "w2-w"
   ]
  },
  {
   "cell_type": "markdown",
   "id": "f4ec2e61",
   "metadata": {},
   "source": [
    "## PeriodIndex and `period_range`\n",
    "\n",
    "Pandas provides powerful tools for generating a range of periods using `period_range()`. Here, we create a range of quarterly periods between 2011 and 2017 and examine the start and end times of the first period."
   ]
  },
  {
   "cell_type": "code",
   "execution_count": 27,
   "id": "9f7778e7",
   "metadata": {},
   "outputs": [
    {
     "data": {
      "text/plain": [
       "PeriodIndex(['2011Q1', '2011Q2', '2011Q3', '2011Q4', '2012Q1', '2012Q2',\n",
       "             '2012Q3', '2012Q4', '2013Q1', '2013Q2', '2013Q3', '2013Q4',\n",
       "             '2014Q1', '2014Q2', '2014Q3', '2014Q4', '2015Q1', '2015Q2',\n",
       "             '2015Q3', '2015Q4', '2016Q1', '2016Q2', '2016Q3', '2016Q4',\n",
       "             '2017Q1'],\n",
       "            dtype='period[Q-DEC]')"
      ]
     },
     "execution_count": 27,
     "metadata": {},
     "output_type": "execute_result"
    }
   ],
   "source": [
    "# Creates a range of quarterly periods from 2011 to 2017\n",
    "r = pd.period_range('2011', '2017', freq='q')\n",
    "r"
   ]
  },
  {
   "cell_type": "code",
   "execution_count": 28,
   "id": "0c51e4db",
   "metadata": {},
   "outputs": [
    {
     "data": {
      "text/plain": [
       "Timestamp('2011-01-01 00:00:00')"
      ]
     },
     "execution_count": 28,
     "metadata": {},
     "output_type": "execute_result"
    }
   ],
   "source": [
    "# Start of 1st period: January 1, 2011\n",
    "r[0].start_time"
   ]
  },
  {
   "cell_type": "code",
   "execution_count": 29,
   "id": "e660e256",
   "metadata": {},
   "outputs": [
    {
     "data": {
      "text/plain": [
       "Timestamp('2011-03-31 23:59:59.999999999')"
      ]
     },
     "execution_count": 29,
     "metadata": {},
     "output_type": "execute_result"
    }
   ],
   "source": [
    "# End of 1st period: March 31, 2011\n",
    "r[0].end_time"
   ]
  },
  {
   "cell_type": "markdown",
   "id": "91d23827",
   "metadata": {},
   "source": [
    "**Walmart's fiscal year ends in January. Below is how you generate Walmart's fiscal quarters between 2011 and 2017:**"
   ]
  },
  {
   "cell_type": "code",
   "execution_count": 30,
   "id": "847e58ed",
   "metadata": {},
   "outputs": [
    {
     "data": {
      "text/plain": [
       "PeriodIndex(['2011Q4', '2012Q1', '2012Q2', '2012Q3', '2012Q4', '2013Q1',\n",
       "             '2013Q2', '2013Q3', '2013Q4', '2014Q1', '2014Q2', '2014Q3',\n",
       "             '2014Q4', '2015Q1', '2015Q2', '2015Q3', '2015Q4', '2016Q1',\n",
       "             '2016Q2', '2016Q3', '2016Q4', '2017Q1', '2017Q2', '2017Q3',\n",
       "             '2017Q4'],\n",
       "            dtype='period[Q-JAN]')"
      ]
     },
     "execution_count": 30,
     "metadata": {},
     "output_type": "execute_result"
    }
   ],
   "source": [
    "# Creates quarterly periods aligned with Walmart's fiscal year\n",
    "r = pd.period_range('2011', '2017', freq='q-jan')\n",
    "r"
   ]
  },
  {
   "cell_type": "markdown",
   "id": "f6b4ffb5",
   "metadata": {},
   "source": [
    "You can also generate a `PeriodIndex` with a custom frequency and a specific number of periods:"
   ]
  },
  {
   "cell_type": "code",
   "execution_count": 33,
   "id": "8e7a9953",
   "metadata": {},
   "outputs": [
    {
     "data": {
      "text/plain": [
       "PeriodIndex(['2016-01', '2016-04', '2016-07', '2016-10', '2017-01', '2017-04',\n",
       "             '2017-07', '2017-10', '2018-01', '2018-04'],\n",
       "            dtype='period[3M]')"
      ]
     },
     "execution_count": 33,
     "metadata": {},
     "output_type": "execute_result"
    }
   ],
   "source": [
    "# Creates a PeriodIndex with 3-month intervals starting from January 2016 \n",
    "r = pd.period_range(start='2016-01', freq='3M', periods=10)\n",
    "r"
   ]
  },
  {
   "cell_type": "markdown",
   "id": "47400ffb",
   "metadata": {},
   "source": [
    "### Creating a PeriodIndex for Series\n",
    "\n",
    "You can create a `PeriodIndex` and use it as the index for a Pandas Series. Here's how to generate quarterly periods for Walmart's fiscal year and create a random Series:"
   ]
  },
  {
   "cell_type": "code",
   "execution_count": 34,
   "id": "77e40d2e",
   "metadata": {},
   "outputs": [
    {
     "data": {
      "text/plain": [
       "PeriodIndex(['2011Q4', '2012Q1', '2012Q2', '2012Q3', '2012Q4', '2013Q1',\n",
       "             '2013Q2', '2013Q3', '2013Q4', '2014Q1'],\n",
       "            dtype='period[Q-JAN]')"
      ]
     },
     "execution_count": 34,
     "metadata": {},
     "output_type": "execute_result"
    }
   ],
   "source": [
    "# Generates 10 quarterly periods aligned with Walmart's fiscal year\n",
    "idx = pd.period_range('2011', periods=10, freq='Q-JAN')\n",
    "idx"
   ]
  },
  {
   "cell_type": "code",
   "execution_count": 35,
   "id": "6b9e3e88",
   "metadata": {},
   "outputs": [
    {
     "data": {
      "text/plain": [
       "2011Q4   -2.021685\n",
       "2012Q1    0.114742\n",
       "2012Q2    0.846414\n",
       "2012Q3   -0.739876\n",
       "2012Q4   -0.057268\n",
       "2013Q1   -0.416103\n",
       "2013Q2    0.420937\n",
       "2013Q3   -0.085259\n",
       "2013Q4   -0.697850\n",
       "2014Q1   -1.250622\n",
       "Freq: Q-JAN, dtype: float64"
      ]
     },
     "execution_count": 35,
     "metadata": {},
     "output_type": "execute_result"
    }
   ],
   "source": [
    "# Creates a Series with random values and the PeriodIndex as the index\n",
    "ps = pd.Series(np.random.randn(len(idx)), idx)\n",
    "ps"
   ]
  },
  {
   "cell_type": "code",
   "execution_count": 36,
   "id": "4798fdda",
   "metadata": {},
   "outputs": [
    {
     "data": {
      "text/plain": [
       "PeriodIndex(['2011Q4', '2012Q1', '2012Q2', '2012Q3', '2012Q4', '2013Q1',\n",
       "             '2013Q2', '2013Q3', '2013Q4', '2014Q1'],\n",
       "            dtype='period[Q-JAN]')"
      ]
     },
     "execution_count": 36,
     "metadata": {},
     "output_type": "execute_result"
    }
   ],
   "source": [
    "# Displays the PeriodIndex of the Series\n",
    "ps.index"
   ]
  },
  {
   "cell_type": "markdown",
   "id": "7c655f01",
   "metadata": {},
   "source": [
    "## Partial Indexing\n",
    "\n",
    "In time series analysis, Pandas allows for **partial indexing**, where you can select data by specifying a year or a range of years. This makes it easy to retrieve subsets of data based on time.\n",
    "\n",
    "**Key Features:**\n",
    "* **Partial indexing:** Select data by just providing a year, and Pandas will automatically return the relevant period.\n",
    "* **Range slicing:** You can specify a range of years to retrieve data across multiple periods."
   ]
  },
  {
   "cell_type": "code",
   "execution_count": 37,
   "id": "1f9709ce",
   "metadata": {},
   "outputs": [
    {
     "data": {
      "text/plain": [
       "2012Q4   -0.057268\n",
       "2013Q1   -0.416103\n",
       "2013Q2    0.420937\n",
       "2013Q3   -0.085259\n",
       "2013Q4   -0.697850\n",
       "Freq: Q-JAN, dtype: float64"
      ]
     },
     "execution_count": 37,
     "metadata": {},
     "output_type": "execute_result"
    }
   ],
   "source": [
    "# Retrieves all data for the year 2012 from the Series\n",
    "ps['2012']"
   ]
  },
  {
   "cell_type": "code",
   "execution_count": 38,
   "id": "23f6e4c7",
   "metadata": {},
   "outputs": [
    {
     "data": {
      "text/plain": [
       "2011Q4   -2.021685\n",
       "2012Q1    0.114742\n",
       "2012Q2    0.846414\n",
       "2012Q3   -0.739876\n",
       "2012Q4   -0.057268\n",
       "2013Q1   -0.416103\n",
       "2013Q2    0.420937\n",
       "2013Q3   -0.085259\n",
       "2013Q4   -0.697850\n",
       "2014Q1   -1.250622\n",
       "Freq: Q-JAN, dtype: float64"
      ]
     },
     "execution_count": 38,
     "metadata": {},
     "output_type": "execute_result"
    }
   ],
   "source": [
    "# Retrieves data between the years 2011 and 2013 (inclusive)\n",
    "ps['2011':'2013']"
   ]
  },
  {
   "cell_type": "markdown",
   "id": "dbc734b4",
   "metadata": {},
   "source": [
    "### Converting Between representations: `Period` and `Timestamp`\n",
    "Pandas provides the ability to convert between `Period` and `Timestamp` representations in time series data. This is useful when working with different time-based formats.\n",
    "\n",
    "**Key Features:**\n",
    "* `to_timestamp()`: Converts a `PeriodIndex` to a `DatetimeIndex` (useful for precise date-based analysis). \n",
    "* `to_period()`: Converts a `DatetimeIndex` back to a `PeriodIndex` (for working with time periods)."
   ]
  },
  {
   "cell_type": "code",
   "execution_count": 39,
   "id": "36d8bfa6",
   "metadata": {},
   "outputs": [
    {
     "data": {
      "text/plain": [
       "2010-11-01   -2.021685\n",
       "2011-02-01    0.114742\n",
       "2011-05-01    0.846414\n",
       "2011-08-01   -0.739876\n",
       "2011-11-01   -0.057268\n",
       "2012-02-01   -0.416103\n",
       "2012-05-01    0.420937\n",
       "2012-08-01   -0.085259\n",
       "2012-11-01   -0.697850\n",
       "2013-02-01   -1.250622\n",
       "Freq: QS-NOV, dtype: float64"
      ]
     },
     "execution_count": 39,
     "metadata": {},
     "output_type": "execute_result"
    }
   ],
   "source": [
    "# Converts a PeriodIndex to a DatetimeIndex (Timestamp)\n",
    "pst = ps.to_timestamp()\n",
    "pst"
   ]
  },
  {
   "cell_type": "code",
   "execution_count": 40,
   "id": "204cd57a",
   "metadata": {},
   "outputs": [
    {
     "data": {
      "text/plain": [
       "DatetimeIndex(['2010-11-01', '2011-02-01', '2011-05-01', '2011-08-01',\n",
       "               '2011-11-01', '2012-02-01', '2012-05-01', '2012-08-01',\n",
       "               '2012-11-01', '2013-02-01'],\n",
       "              dtype='datetime64[ns]', freq='QS-NOV')"
      ]
     },
     "execution_count": 40,
     "metadata": {},
     "output_type": "execute_result"
    }
   ],
   "source": [
    "# Shows the DatetimeIndex\n",
    "pst.index"
   ]
  },
  {
   "cell_type": "code",
   "execution_count": 41,
   "id": "0c0eff57",
   "metadata": {},
   "outputs": [
    {
     "data": {
      "text/plain": [
       "2010Q4   -2.021685\n",
       "2011Q1    0.114742\n",
       "2011Q2    0.846414\n",
       "2011Q3   -0.739876\n",
       "2011Q4   -0.057268\n",
       "2012Q1   -0.416103\n",
       "2012Q2    0.420937\n",
       "2012Q3   -0.085259\n",
       "2012Q4   -0.697850\n",
       "2013Q1   -1.250622\n",
       "Freq: Q-DEC, dtype: float64"
      ]
     },
     "execution_count": 41,
     "metadata": {},
     "output_type": "execute_result"
    }
   ],
   "source": [
    "# Converts back from DatetimeIndex to PeriodIndex\n",
    "ps = pst.to_period()\n",
    "ps"
   ]
  },
  {
   "cell_type": "code",
   "execution_count": 42,
   "id": "ff1181fe",
   "metadata": {},
   "outputs": [
    {
     "data": {
      "text/plain": [
       "PeriodIndex(['2010Q4', '2011Q1', '2011Q2', '2011Q3', '2011Q4', '2012Q1',\n",
       "             '2012Q2', '2012Q3', '2012Q4', '2013Q1'],\n",
       "            dtype='period[Q-DEC]')"
      ]
     },
     "execution_count": 42,
     "metadata": {},
     "output_type": "execute_result"
    }
   ],
   "source": [
    "# Shows the PeriodIndex\n",
    "ps.index"
   ]
  },
  {
   "cell_type": "markdown",
   "id": "b56561db",
   "metadata": {},
   "source": [
    "## Processing Walmart's Financials\n",
    "\n",
    "Here, we process Walmart's financial data through the CSV file, setting a `PeriodIndex` to align the data with Walmart's fiscal quarters, and converting the DataFrame for time-based analysis.\n",
    "\n",
    "**Key Features:**\n",
    "* `set_index()`: Sets \"Line Item\" as the index of the DataFrame\n",
    "* `T` **(Transpose)**: Switches rows and columns for easier time-based operations\n",
    "* `PeriodIndex()`: Converts the index to quarterly periods aligned with Walmart's fiscal year (`Q-JAN`)\n",
    "* `start_time`: Retrieves the start date of a specific period, useful for time-based analysis."
   ]
  },
  {
   "cell_type": "code",
   "execution_count": 43,
   "id": "acf85995",
   "metadata": {},
   "outputs": [
    {
     "data": {
      "text/html": [
       "<div>\n",
       "<style scoped>\n",
       "    .dataframe tbody tr th:only-of-type {\n",
       "        vertical-align: middle;\n",
       "    }\n",
       "\n",
       "    .dataframe tbody tr th {\n",
       "        vertical-align: top;\n",
       "    }\n",
       "\n",
       "    .dataframe thead th {\n",
       "        text-align: right;\n",
       "    }\n",
       "</style>\n",
       "<table border=\"1\" class=\"dataframe\">\n",
       "  <thead>\n",
       "    <tr style=\"text-align: right;\">\n",
       "      <th></th>\n",
       "      <th>Line Item</th>\n",
       "      <th>2017Q1</th>\n",
       "      <th>2017Q2</th>\n",
       "      <th>2017Q3</th>\n",
       "      <th>2017Q4</th>\n",
       "      <th>2018Q1</th>\n",
       "    </tr>\n",
       "  </thead>\n",
       "  <tbody>\n",
       "    <tr>\n",
       "      <th>0</th>\n",
       "      <td>Revenue</td>\n",
       "      <td>115904</td>\n",
       "      <td>120854</td>\n",
       "      <td>118179</td>\n",
       "      <td>130936</td>\n",
       "      <td>117542</td>\n",
       "    </tr>\n",
       "    <tr>\n",
       "      <th>1</th>\n",
       "      <td>Expenses</td>\n",
       "      <td>86544</td>\n",
       "      <td>89485</td>\n",
       "      <td>87484</td>\n",
       "      <td>97743</td>\n",
       "      <td>87688</td>\n",
       "    </tr>\n",
       "    <tr>\n",
       "      <th>2</th>\n",
       "      <td>Profit</td>\n",
       "      <td>29360</td>\n",
       "      <td>31369</td>\n",
       "      <td>30695</td>\n",
       "      <td>33193</td>\n",
       "      <td>29854</td>\n",
       "    </tr>\n",
       "  </tbody>\n",
       "</table>\n",
       "</div>"
      ],
      "text/plain": [
       "  Line Item  2017Q1  2017Q2  2017Q3  2017Q4  2018Q1\n",
       "0   Revenue  115904  120854  118179  130936  117542\n",
       "1  Expenses   86544   89485   87484   97743   87688\n",
       "2    Profit   29360   31369   30695   33193   29854"
      ]
     },
     "execution_count": 43,
     "metadata": {},
     "output_type": "execute_result"
    }
   ],
   "source": [
    "df = pd.read_csv(\"wmt.csv\")\n",
    "df"
   ]
  },
  {
   "cell_type": "code",
   "execution_count": 44,
   "id": "653b74ad",
   "metadata": {},
   "outputs": [
    {
     "data": {
      "text/html": [
       "<div>\n",
       "<style scoped>\n",
       "    .dataframe tbody tr th:only-of-type {\n",
       "        vertical-align: middle;\n",
       "    }\n",
       "\n",
       "    .dataframe tbody tr th {\n",
       "        vertical-align: top;\n",
       "    }\n",
       "\n",
       "    .dataframe thead th {\n",
       "        text-align: right;\n",
       "    }\n",
       "</style>\n",
       "<table border=\"1\" class=\"dataframe\">\n",
       "  <thead>\n",
       "    <tr style=\"text-align: right;\">\n",
       "      <th>Line Item</th>\n",
       "      <th>Revenue</th>\n",
       "      <th>Expenses</th>\n",
       "      <th>Profit</th>\n",
       "    </tr>\n",
       "  </thead>\n",
       "  <tbody>\n",
       "    <tr>\n",
       "      <th>2017Q1</th>\n",
       "      <td>115904</td>\n",
       "      <td>86544</td>\n",
       "      <td>29360</td>\n",
       "    </tr>\n",
       "    <tr>\n",
       "      <th>2017Q2</th>\n",
       "      <td>120854</td>\n",
       "      <td>89485</td>\n",
       "      <td>31369</td>\n",
       "    </tr>\n",
       "    <tr>\n",
       "      <th>2017Q3</th>\n",
       "      <td>118179</td>\n",
       "      <td>87484</td>\n",
       "      <td>30695</td>\n",
       "    </tr>\n",
       "    <tr>\n",
       "      <th>2017Q4</th>\n",
       "      <td>130936</td>\n",
       "      <td>97743</td>\n",
       "      <td>33193</td>\n",
       "    </tr>\n",
       "    <tr>\n",
       "      <th>2018Q1</th>\n",
       "      <td>117542</td>\n",
       "      <td>87688</td>\n",
       "      <td>29854</td>\n",
       "    </tr>\n",
       "  </tbody>\n",
       "</table>\n",
       "</div>"
      ],
      "text/plain": [
       "Line Item  Revenue  Expenses  Profit\n",
       "2017Q1      115904     86544   29360\n",
       "2017Q2      120854     89485   31369\n",
       "2017Q3      118179     87484   30695\n",
       "2017Q4      130936     97743   33193\n",
       "2018Q1      117542     87688   29854"
      ]
     },
     "execution_count": 44,
     "metadata": {},
     "output_type": "execute_result"
    }
   ],
   "source": [
    "# Sets 'Line Item' as the index\n",
    "df.set_index(\"Line Item\", inplace=True)\n",
    "# Transposes the DataFrame so that periods are the rows\n",
    "df =  df.T\n",
    "df"
   ]
  },
  {
   "cell_type": "code",
   "execution_count": 45,
   "id": "2cdecf27",
   "metadata": {},
   "outputs": [
    {
     "data": {
      "text/html": [
       "<div>\n",
       "<style scoped>\n",
       "    .dataframe tbody tr th:only-of-type {\n",
       "        vertical-align: middle;\n",
       "    }\n",
       "\n",
       "    .dataframe tbody tr th {\n",
       "        vertical-align: top;\n",
       "    }\n",
       "\n",
       "    .dataframe thead th {\n",
       "        text-align: right;\n",
       "    }\n",
       "</style>\n",
       "<table border=\"1\" class=\"dataframe\">\n",
       "  <thead>\n",
       "    <tr style=\"text-align: right;\">\n",
       "      <th>Line Item</th>\n",
       "      <th>Revenue</th>\n",
       "      <th>Expenses</th>\n",
       "      <th>Profit</th>\n",
       "    </tr>\n",
       "  </thead>\n",
       "  <tbody>\n",
       "    <tr>\n",
       "      <th>2017Q1</th>\n",
       "      <td>115904</td>\n",
       "      <td>86544</td>\n",
       "      <td>29360</td>\n",
       "    </tr>\n",
       "    <tr>\n",
       "      <th>2017Q2</th>\n",
       "      <td>120854</td>\n",
       "      <td>89485</td>\n",
       "      <td>31369</td>\n",
       "    </tr>\n",
       "    <tr>\n",
       "      <th>2017Q3</th>\n",
       "      <td>118179</td>\n",
       "      <td>87484</td>\n",
       "      <td>30695</td>\n",
       "    </tr>\n",
       "    <tr>\n",
       "      <th>2017Q4</th>\n",
       "      <td>130936</td>\n",
       "      <td>97743</td>\n",
       "      <td>33193</td>\n",
       "    </tr>\n",
       "    <tr>\n",
       "      <th>2018Q1</th>\n",
       "      <td>117542</td>\n",
       "      <td>87688</td>\n",
       "      <td>29854</td>\n",
       "    </tr>\n",
       "  </tbody>\n",
       "</table>\n",
       "</div>"
      ],
      "text/plain": [
       "Line Item  Revenue  Expenses  Profit\n",
       "2017Q1      115904     86544   29360\n",
       "2017Q2      120854     89485   31369\n",
       "2017Q3      118179     87484   30695\n",
       "2017Q4      130936     97743   33193\n",
       "2018Q1      117542     87688   29854"
      ]
     },
     "execution_count": 45,
     "metadata": {},
     "output_type": "execute_result"
    }
   ],
   "source": [
    "# Converts the index to a PeriodIndex aligned with Walmart's fiscal year\n",
    "df.index = pd.PeriodIndex(df.index, freq=\"Q-JAN\")\n",
    "df"
   ]
  },
  {
   "cell_type": "code",
   "execution_count": 46,
   "id": "01902c1b",
   "metadata": {},
   "outputs": [
    {
     "data": {
      "text/plain": [
       "PeriodIndex(['2017Q1', '2017Q2', '2017Q3', '2017Q4', '2018Q1'], dtype='period[Q-JAN]')"
      ]
     },
     "execution_count": 46,
     "metadata": {},
     "output_type": "execute_result"
    }
   ],
   "source": [
    "# Displays the PeriodIndex\n",
    "df.index"
   ]
  },
  {
   "cell_type": "code",
   "execution_count": 47,
   "id": "9a95bd32",
   "metadata": {},
   "outputs": [
    {
     "data": {
      "text/plain": [
       "Timestamp('2016-02-01 00:00:00')"
      ]
     },
     "execution_count": 47,
     "metadata": {},
     "output_type": "execute_result"
    }
   ],
   "source": [
    "# Retrieves the start time of the first period\n",
    "df.index[0].start_time"
   ]
  },
  {
   "cell_type": "markdown",
   "id": "683e8a16",
   "metadata": {},
   "source": [
    "### Add start end date columns to dataframe\n",
    "\n",
    "Here, we add two new columns to the DataFrame: \"Start Date\" and \"End Date\". These columns will contain the start and end times of each period in the `PeriodIndex`."
   ]
  },
  {
   "cell_type": "code",
   "execution_count": 48,
   "id": "d07e99d3",
   "metadata": {},
   "outputs": [
    {
     "data": {
      "text/html": [
       "<div>\n",
       "<style scoped>\n",
       "    .dataframe tbody tr th:only-of-type {\n",
       "        vertical-align: middle;\n",
       "    }\n",
       "\n",
       "    .dataframe tbody tr th {\n",
       "        vertical-align: top;\n",
       "    }\n",
       "\n",
       "    .dataframe thead th {\n",
       "        text-align: right;\n",
       "    }\n",
       "</style>\n",
       "<table border=\"1\" class=\"dataframe\">\n",
       "  <thead>\n",
       "    <tr style=\"text-align: right;\">\n",
       "      <th>Line Item</th>\n",
       "      <th>Revenue</th>\n",
       "      <th>Expenses</th>\n",
       "      <th>Profit</th>\n",
       "      <th>Start Date</th>\n",
       "    </tr>\n",
       "  </thead>\n",
       "  <tbody>\n",
       "    <tr>\n",
       "      <th>2017Q1</th>\n",
       "      <td>115904</td>\n",
       "      <td>86544</td>\n",
       "      <td>29360</td>\n",
       "      <td>2016-02-01</td>\n",
       "    </tr>\n",
       "    <tr>\n",
       "      <th>2017Q2</th>\n",
       "      <td>120854</td>\n",
       "      <td>89485</td>\n",
       "      <td>31369</td>\n",
       "      <td>2016-05-01</td>\n",
       "    </tr>\n",
       "    <tr>\n",
       "      <th>2017Q3</th>\n",
       "      <td>118179</td>\n",
       "      <td>87484</td>\n",
       "      <td>30695</td>\n",
       "      <td>2016-08-01</td>\n",
       "    </tr>\n",
       "    <tr>\n",
       "      <th>2017Q4</th>\n",
       "      <td>130936</td>\n",
       "      <td>97743</td>\n",
       "      <td>33193</td>\n",
       "      <td>2016-11-01</td>\n",
       "    </tr>\n",
       "    <tr>\n",
       "      <th>2018Q1</th>\n",
       "      <td>117542</td>\n",
       "      <td>87688</td>\n",
       "      <td>29854</td>\n",
       "      <td>2017-02-01</td>\n",
       "    </tr>\n",
       "  </tbody>\n",
       "</table>\n",
       "</div>"
      ],
      "text/plain": [
       "Line Item  Revenue  Expenses  Profit Start Date\n",
       "2017Q1      115904     86544   29360 2016-02-01\n",
       "2017Q2      120854     89485   31369 2016-05-01\n",
       "2017Q3      118179     87484   30695 2016-08-01\n",
       "2017Q4      130936     97743   33193 2016-11-01\n",
       "2018Q1      117542     87688   29854 2017-02-01"
      ]
     },
     "execution_count": 48,
     "metadata": {},
     "output_type": "execute_result"
    }
   ],
   "source": [
    "# Adds a 'Start Date' column with the start time of each period\n",
    "df[\"Start Date\"]=df.index.map(lambda x: x.start_time)\n",
    "df"
   ]
  },
  {
   "cell_type": "code",
   "execution_count": 49,
   "id": "04a3619a",
   "metadata": {},
   "outputs": [
    {
     "data": {
      "text/html": [
       "<div>\n",
       "<style scoped>\n",
       "    .dataframe tbody tr th:only-of-type {\n",
       "        vertical-align: middle;\n",
       "    }\n",
       "\n",
       "    .dataframe tbody tr th {\n",
       "        vertical-align: top;\n",
       "    }\n",
       "\n",
       "    .dataframe thead th {\n",
       "        text-align: right;\n",
       "    }\n",
       "</style>\n",
       "<table border=\"1\" class=\"dataframe\">\n",
       "  <thead>\n",
       "    <tr style=\"text-align: right;\">\n",
       "      <th>Line Item</th>\n",
       "      <th>Revenue</th>\n",
       "      <th>Expenses</th>\n",
       "      <th>Profit</th>\n",
       "      <th>Start Date</th>\n",
       "      <th>End Date</th>\n",
       "    </tr>\n",
       "  </thead>\n",
       "  <tbody>\n",
       "    <tr>\n",
       "      <th>2017Q1</th>\n",
       "      <td>115904</td>\n",
       "      <td>86544</td>\n",
       "      <td>29360</td>\n",
       "      <td>2016-02-01</td>\n",
       "      <td>2016-04-30 23:59:59.999999999</td>\n",
       "    </tr>\n",
       "    <tr>\n",
       "      <th>2017Q2</th>\n",
       "      <td>120854</td>\n",
       "      <td>89485</td>\n",
       "      <td>31369</td>\n",
       "      <td>2016-05-01</td>\n",
       "      <td>2016-07-31 23:59:59.999999999</td>\n",
       "    </tr>\n",
       "    <tr>\n",
       "      <th>2017Q3</th>\n",
       "      <td>118179</td>\n",
       "      <td>87484</td>\n",
       "      <td>30695</td>\n",
       "      <td>2016-08-01</td>\n",
       "      <td>2016-10-31 23:59:59.999999999</td>\n",
       "    </tr>\n",
       "    <tr>\n",
       "      <th>2017Q4</th>\n",
       "      <td>130936</td>\n",
       "      <td>97743</td>\n",
       "      <td>33193</td>\n",
       "      <td>2016-11-01</td>\n",
       "      <td>2017-01-31 23:59:59.999999999</td>\n",
       "    </tr>\n",
       "    <tr>\n",
       "      <th>2018Q1</th>\n",
       "      <td>117542</td>\n",
       "      <td>87688</td>\n",
       "      <td>29854</td>\n",
       "      <td>2017-02-01</td>\n",
       "      <td>2017-04-30 23:59:59.999999999</td>\n",
       "    </tr>\n",
       "  </tbody>\n",
       "</table>\n",
       "</div>"
      ],
      "text/plain": [
       "Line Item  Revenue  Expenses  Profit Start Date                      End Date\n",
       "2017Q1      115904     86544   29360 2016-02-01 2016-04-30 23:59:59.999999999\n",
       "2017Q2      120854     89485   31369 2016-05-01 2016-07-31 23:59:59.999999999\n",
       "2017Q3      118179     87484   30695 2016-08-01 2016-10-31 23:59:59.999999999\n",
       "2017Q4      130936     97743   33193 2016-11-01 2017-01-31 23:59:59.999999999\n",
       "2018Q1      117542     87688   29854 2017-02-01 2017-04-30 23:59:59.999999999"
      ]
     },
     "execution_count": 49,
     "metadata": {},
     "output_type": "execute_result"
    }
   ],
   "source": [
    "# Adds an 'End Date' column with the end time of each period\n",
    "df['End Date']=df.index.map(lambda x: x.end_time)\n",
    "df"
   ]
  }
 ],
 "metadata": {
  "kernelspec": {
   "display_name": "Python 3 (ipykernel)",
   "language": "python",
   "name": "python3"
  },
  "language_info": {
   "codemirror_mode": {
    "name": "ipython",
    "version": 3
   },
   "file_extension": ".py",
   "mimetype": "text/x-python",
   "name": "python",
   "nbconvert_exporter": "python",
   "pygments_lexer": "ipython3",
   "version": "3.11.7"
  }
 },
 "nbformat": 4,
 "nbformat_minor": 5
}
