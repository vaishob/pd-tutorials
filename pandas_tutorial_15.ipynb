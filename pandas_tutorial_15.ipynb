{
 "cells": [
  {
   "cell_type": "markdown",
   "id": "022d640f",
   "metadata": {},
   "source": [
    "## Pandas Tutorial 15: Handling Large Datasets in Pandas\n",
    "Often datasets that you load in pandas are very big and you may run out of memory. In this tutorial, we will cover some memory optimization tips in pandas.\n",
    "\n",
    "#### Topics covered:\n",
    "* **Introduction**\n",
    "* **Loading only necessary data**\n",
    "* **Optimizing data types**\n",
    "* **Reading in chunks**\n",
    "* **Memory profiling and tracking**\n",
    "\n",
    "This tutorial will show you how to optimize the loading and processing of large datasets in pandas by utilizing selective loading, optimizing data types, and chunked reading, along with useful memory profiling techniques to ensure that you don't run out of memory."
   ]
  },
  {
   "cell_type": "code",
   "execution_count": 1,
   "id": "3ffe60e9",
   "metadata": {},
   "outputs": [],
   "source": [
    "import pandas as pd"
   ]
  },
  {
   "cell_type": "markdown",
   "id": "2d6de746",
   "metadata": {},
   "source": [
    "## 1. Loading Only Necessary Data\n",
    "To save memory, you can load only the columns or rows that you actually need. Let's say you only need data related to registered voters, abstentions, and expressed voters. Use the `usecols` parameter to specify the relevant columns."
   ]
  },
  {
   "cell_type": "code",
   "execution_count": 2,
   "id": "b38992d9",
   "metadata": {},
   "outputs": [],
   "source": [
    "# Load only specific columns and rows\n",
    "df = pd.read_csv(\"voters.csv\", usecols=['Registered', 'Abstentions','Voters', 'Expressed', 'Sex'], nrows=10000)"
   ]
  },
  {
   "cell_type": "markdown",
   "id": "c1bf778e",
   "metadata": {},
   "source": [
    "## 2. Optimizing Data Types\n",
    "By default, pandas guesses the data types, but you can reduce memory usage by converting columns to more efficient types. For instance, string-based columns like 'Sex' can be converted to `category`, and integer columns like 'Registered' and 'Voters' can be downcasted."
   ]
  },
  {
   "cell_type": "code",
   "execution_count": 3,
   "id": "c7d96149",
   "metadata": {
    "scrolled": true
   },
   "outputs": [],
   "source": [
    "# Convert to category type\n",
    "df['Sex'] = df['Sex'].astype('category')\n",
    "\n",
    "# Downcast numerical columns\n",
    "df['Registered'] = pd.to_numeric(df['Registered'], downcast='integer')\n",
    "df['Voters'] = pd.to_numeric(df['Voters'], downcast='integer')"
   ]
  },
  {
   "cell_type": "markdown",
   "id": "95e51930",
   "metadata": {},
   "source": [
    "## 3. Reading in Chunks\n",
    "If the dataset is too large to load at once, you can process it in smaller chunks. This reduces memory usage and makes data processing more manageable."
   ]
  },
  {
   "cell_type": "code",
   "execution_count": 5,
   "id": "da55f8a6",
   "metadata": {
    "scrolled": true
   },
   "outputs": [
    {
     "name": "stderr",
     "output_type": "stream",
     "text": [
      "C:\\Users\\Vaishob\\AppData\\Local\\Temp\\ipykernel_18968\\568657364.py:4: DtypeWarning: Columns (1,7,29) have mixed types. Specify dtype option on import or set low_memory=False.\n",
      "  for chunk in chunk_iter:\n"
     ]
    },
    {
     "name": "stdout",
     "output_type": "stream",
     "text": [
      "Registered    61821838\n",
      "dtype: int64\n"
     ]
    },
    {
     "name": "stderr",
     "output_type": "stream",
     "text": [
      "C:\\Users\\Vaishob\\AppData\\Local\\Temp\\ipykernel_18968\\568657364.py:4: DtypeWarning: Columns (1,29) have mixed types. Specify dtype option on import or set low_memory=False.\n",
      "  for chunk in chunk_iter:\n"
     ]
    },
    {
     "name": "stdout",
     "output_type": "stream",
     "text": [
      "Registered    61730144\n",
      "dtype: int64\n"
     ]
    },
    {
     "name": "stderr",
     "output_type": "stream",
     "text": [
      "C:\\Users\\Vaishob\\AppData\\Local\\Temp\\ipykernel_18968\\568657364.py:4: DtypeWarning: Columns (1,29) have mixed types. Specify dtype option on import or set low_memory=False.\n",
      "  for chunk in chunk_iter:\n"
     ]
    },
    {
     "name": "stdout",
     "output_type": "stream",
     "text": [
      "Registered    63158272\n",
      "dtype: int64\n"
     ]
    },
    {
     "name": "stderr",
     "output_type": "stream",
     "text": [
      "C:\\Users\\Vaishob\\AppData\\Local\\Temp\\ipykernel_18968\\568657364.py:4: DtypeWarning: Columns (1,7,29) have mixed types. Specify dtype option on import or set low_memory=False.\n",
      "  for chunk in chunk_iter:\n"
     ]
    },
    {
     "name": "stdout",
     "output_type": "stream",
     "text": [
      "Registered    65002199\n",
      "dtype: int64\n"
     ]
    },
    {
     "name": "stderr",
     "output_type": "stream",
     "text": [
      "C:\\Users\\Vaishob\\AppData\\Local\\Temp\\ipykernel_18968\\568657364.py:4: DtypeWarning: Columns (1,7,29) have mixed types. Specify dtype option on import or set low_memory=False.\n",
      "  for chunk in chunk_iter:\n"
     ]
    },
    {
     "name": "stdout",
     "output_type": "stream",
     "text": [
      "Registered    68140196\n",
      "dtype: int64\n"
     ]
    },
    {
     "name": "stderr",
     "output_type": "stream",
     "text": [
      "C:\\Users\\Vaishob\\AppData\\Local\\Temp\\ipykernel_18968\\568657364.py:4: DtypeWarning: Columns (7) have mixed types. Specify dtype option on import or set low_memory=False.\n",
      "  for chunk in chunk_iter:\n"
     ]
    },
    {
     "name": "stdout",
     "output_type": "stream",
     "text": [
      "Registered    71800637\n",
      "dtype: int64\n"
     ]
    },
    {
     "name": "stderr",
     "output_type": "stream",
     "text": [
      "C:\\Users\\Vaishob\\AppData\\Local\\Temp\\ipykernel_18968\\568657364.py:4: DtypeWarning: Columns (7) have mixed types. Specify dtype option on import or set low_memory=False.\n",
      "  for chunk in chunk_iter:\n"
     ]
    },
    {
     "name": "stdout",
     "output_type": "stream",
     "text": [
      "Registered    74999579\n",
      "dtype: int64\n",
      "Registered    56836607\n",
      "dtype: int64\n"
     ]
    }
   ],
   "source": [
    "# Read the file in chunks\n",
    "chunk_iter = pd.read_csv(\"voters.csv\", chunksize=100000)\n",
    "\n",
    "for chunk in chunk_iter:\n",
    "    # Process each chunk here (for example, summing up the 'Registered' column)\n",
    "    print(chunk[['Registered']].sum())"
   ]
  },
  {
   "cell_type": "markdown",
   "id": "537628b0",
   "metadata": {},
   "source": [
    "## 4. Memory Profiling and Tracking\n",
    "It's helpful to track memory usage before and after optimizations. This can be done using the `memory_usage()` method."
   ]
  },
  {
   "cell_type": "code",
   "execution_count": 16,
   "id": "72ae6ca6",
   "metadata": {},
   "outputs": [
    {
     "name": "stderr",
     "output_type": "stream",
     "text": [
      "C:\\Users\\Vaishob\\AppData\\Local\\Temp\\ipykernel_18968\\2427936037.py:2: DtypeWarning: Columns (1,7,29) have mixed types. Specify dtype option on import or set low_memory=False.\n",
      "  df = pd.read_csv(\"voters.csv\")\n"
     ]
    },
    {
     "name": "stdout",
     "output_type": "stream",
     "text": [
      "Initial data types:\n",
      "Unnamed: 0                   int64\n",
      "Department code             object\n",
      "Department                  object\n",
      "Constituency code            int64\n",
      "Constituency                object\n",
      "Commune code                 int64\n",
      "Commune                     object\n",
      "Polling station             object\n",
      "Registered                   int64\n",
      "Abstentions                  int64\n",
      "% Abs/Reg                  float64\n",
      "Voters                       int64\n",
      "% Vot/Reg                  float64\n",
      "None of the above(NOTA)      int64\n",
      "% NOTA/Reg                 float64\n",
      "% NOTA/Vot                 float64\n",
      "Nulls                        int64\n",
      "% Nulls/Reg                float64\n",
      "% Nulls/Vot                float64\n",
      "Expressed                    int64\n",
      "% Exp/Reg                  float64\n",
      "% Exp/Vot                  float64\n",
      "Signboard                    int64\n",
      "Sex                         object\n",
      "Surname                     object\n",
      "First name                  object\n",
      "Voted                        int64\n",
      "% Votes/Reg                float64\n",
      "% Votes/Exp                float64\n",
      "INSEE code                  object\n",
      "Coordinates                 object\n",
      "Polling station name        object\n",
      "Address                     object\n",
      "Postal code                float64\n",
      "City                        object\n",
      "Poll.St.-unique             object\n",
      "dtype: object\n",
      "Memory usage before optimization (bytes):\n",
      "Index                           132\n",
      "Unnamed: 0                  6094440\n",
      "Department code            43815999\n",
      "Department                 54730126\n",
      "Constituency code           6094440\n",
      "Constituency               77001914\n",
      "Commune code                6094440\n",
      "Commune                    55330968\n",
      "Polling station            39041236\n",
      "Registered                  6094440\n",
      "Abstentions                 6094440\n",
      "% Abs/Reg                   6094440\n",
      "Voters                      6094440\n",
      "% Vot/Reg                   6094440\n",
      "None of the above(NOTA)     6094440\n",
      "% NOTA/Reg                  6094440\n",
      "% NOTA/Vot                  6094440\n",
      "Nulls                       6094440\n",
      "% Nulls/Reg                 6094440\n",
      "% Nulls/Vot                 6094440\n",
      "Expressed                   6094440\n",
      "% Exp/Reg                   6094440\n",
      "% Exp/Vot                   6094440\n",
      "Signboard                   6094440\n",
      "Sex                        44184690\n",
      "Surname                    50971680\n",
      "First name                 53811135\n",
      "Voted                       6094440\n",
      "% Votes/Reg                 6094440\n",
      "% Votes/Exp                 6094440\n",
      "INSEE code                  8008650\n",
      "Coordinates                 7451082\n",
      "Polling station name        3850801\n",
      "Address                    49630944\n",
      "Postal code                 6094440\n",
      "City                       52142233\n",
      "Poll.St.-unique            70015990\n",
      "dtype: int64\n",
      "Memory usage after optimization (bytes):\n",
      "Index                           132\n",
      "Unnamed: 0                  6094440\n",
      "Department code            43815999\n",
      "Department                 54730126\n",
      "Constituency code           6094440\n",
      "Constituency               77001914\n",
      "Commune code                6094440\n",
      "Commune                    55330968\n",
      "Polling station            39041236\n",
      "Registered                  6094440\n",
      "Abstentions                 6094440\n",
      "% Abs/Reg                   6094440\n",
      "Voters                      6094440\n",
      "% Vot/Reg                   6094440\n",
      "None of the above(NOTA)     6094440\n",
      "% NOTA/Reg                  6094440\n",
      "% NOTA/Vot                  6094440\n",
      "Nulls                       6094440\n",
      "% Nulls/Reg                 6094440\n",
      "% Nulls/Vot                 6094440\n",
      "Expressed                   6094440\n",
      "% Exp/Reg                   6094440\n",
      "% Exp/Vot                   6094440\n",
      "Signboard                   6094440\n",
      "Sex                        44184690\n",
      "Surname                    50971680\n",
      "First name                 53811135\n",
      "Voted                       6094440\n",
      "% Votes/Reg                 6094440\n",
      "% Votes/Exp                 6094440\n",
      "INSEE code                  8008650\n",
      "Coordinates                 7451082\n",
      "Polling station name        3850801\n",
      "Address                    49630944\n",
      "Postal code                 6094440\n",
      "City                       52142233\n",
      "Poll.St.-unique            70015990\n",
      "dtype: int64\n",
      "Final data types:\n",
      "Unnamed: 0                    int64\n",
      "Department code              object\n",
      "Department                   object\n",
      "Constituency code             int64\n",
      "Constituency                 object\n",
      "Commune code                  int64\n",
      "Commune                      object\n",
      "Polling station              object\n",
      "Registered                    int64\n",
      "Abstentions                   int64\n",
      "% Abs/Reg                   float64\n",
      "Voters                        int64\n",
      "% Vot/Reg                   float64\n",
      "None of the above(NOTA)       int64\n",
      "% NOTA/Reg                  float64\n",
      "% NOTA/Vot                  float64\n",
      "Nulls                         int64\n",
      "% Nulls/Reg                 float64\n",
      "% Nulls/Vot                 float64\n",
      "Expressed                     int64\n",
      "% Exp/Reg                   float64\n",
      "% Exp/Vot                   float64\n",
      "Signboard                     int64\n",
      "Sex                          object\n",
      "Surname                      object\n",
      "First name                   object\n",
      "Voted                         int64\n",
      "% Votes/Reg                 float64\n",
      "% Votes/Exp                 float64\n",
      "INSEE code                 category\n",
      "Coordinates                category\n",
      "Polling station name       category\n",
      "Address                      object\n",
      "Postal code                 float64\n",
      "City                         object\n",
      "Poll.St.-unique              object\n",
      "dtype: object\n"
     ]
    }
   ],
   "source": [
    "# Load the dataset\n",
    "df = pd.read_csv(\"voters.csv\")\n",
    "\n",
    "# Initial data types check\n",
    "print(\"Initial data types:\")\n",
    "print(df.dtypes)\n",
    "\n",
    "# Focused optimizations: Convert key columns to 'category' for memory efficiency\n",
    "df['INSEE code'] = df['INSEE code'].astype('category')\n",
    "df['Coordinates'] = df['Coordinates'].astype('category')\n",
    "df['Polling station name'] = df['Polling station name'].astype('category')\n",
    "\n",
    "# Check memory usage before and after optimization\n",
    "print(\"Memory usage before optimization (bytes):\")\n",
    "print(df.memory_usage(deep=True))\n",
    "\n",
    "# Apply optimizations\n",
    "print(\"Memory usage after optimization (bytes):\")\n",
    "print(df.memory_usage(deep=True))\n",
    "\n",
    "# Final data types after optimization\n",
    "print(\"Final data types:\")\n",
    "print(df.dtypes)"
   ]
  },
  {
   "cell_type": "markdown",
   "id": "9def5ef3",
   "metadata": {},
   "source": [
    "## Summary\n",
    "This tutorial covered essential tips to handle large datasets in pandas without running out of memory:\n",
    "\n",
    "1. **Load only necessary columns/rows** using `usecols` and `nrows`. \n",
    "2. **Optimize data types** by converting string columns to `category` and downcasting numerical columns.\n",
    "3. **Process data in chunks** using `chunksize` for efficient loading.\n",
    "4. **Monitor memory usage** before and after optimizations with `memory_usage`."
   ]
  }
 ],
 "metadata": {
  "kernelspec": {
   "display_name": "Python 3 (ipykernel)",
   "language": "python",
   "name": "python3"
  },
  "language_info": {
   "codemirror_mode": {
    "name": "ipython",
    "version": 3
   },
   "file_extension": ".py",
   "mimetype": "text/x-python",
   "name": "python",
   "nbconvert_exporter": "python",
   "pygments_lexer": "ipython3",
   "version": "3.11.7"
  }
 },
 "nbformat": 4,
 "nbformat_minor": 5
}
