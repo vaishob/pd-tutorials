{
 "cells": [
  {
   "cell_type": "markdown",
   "id": "d9387054",
   "metadata": {},
   "source": [
    "# Pandas Tutorial 4: Reading and Writing CSV and Excel Files in Pandas\n",
    "\n",
    "In this tutorial, we'll focus on reading from and writing to CSV and Excel files - essential tasks in data analysis. You'll learn how to handle messy data, transform it during import, and export portions of a DataFrame to Excel.\n",
    "\n",
    "**Topics covered:**\n",
    "- Reading a CSV with `read_csv()`\n",
    "- Skipping rows using `skiprows`\n",
    "- Importing a CSV with missing headers\n",
    "- Reading a limited number of rows\n",
    "- Cleaning messy data using `na_values`\n",
    "- Replacing values with `na_values` (dictionary)\n",
    "- Writing to CSV with `to_csv()`\n",
    "- Reading an Excel file with `read_excel()`\n",
    "- Using `converters` in `read_excel()`\n",
    "- Writing to Excel with `to_excel()`\n",
    "- Using `ExcelWriter()` for advanced Excel operations\n",
    "\n",
    "This tutorial will build on your DataFrame knowledge and introduce real-world data handling with CSV and Excel files, a crucial part of any data analysis workflow."
   ]
  },
  {
   "cell_type": "code",
   "execution_count": 1,
   "id": "d3cde56b",
   "metadata": {},
   "outputs": [],
   "source": [
    "import pandas as pd"
   ]
  },
  {
   "cell_type": "markdown",
   "id": "7432b184",
   "metadata": {},
   "source": [
    "### Reading a CSV File with Limited Rows Using `nrows`\n",
    "\n",
    "The `nrows` argument in `read_csv()` allows you to load a specified number of rows from a CSV file. For example, loading only the first 3 rows is useful when working with large datasets and you only need a sample.\n",
    "\n",
    "**Key features of `nrows`**:\n",
    "- Optimizes memory usage by limiting rows.\n",
    "- Ideal for quick inspection or testing code on a small subset before processing the entire dataset."
   ]
  },
  {
   "cell_type": "code",
   "execution_count": 2,
   "id": "a8fff72f",
   "metadata": {
    "scrolled": false
   },
   "outputs": [
    {
     "data": {
      "text/html": [
       "<div>\n",
       "<style scoped>\n",
       "    .dataframe tbody tr th:only-of-type {\n",
       "        vertical-align: middle;\n",
       "    }\n",
       "\n",
       "    .dataframe tbody tr th {\n",
       "        vertical-align: top;\n",
       "    }\n",
       "\n",
       "    .dataframe thead th {\n",
       "        text-align: right;\n",
       "    }\n",
       "</style>\n",
       "<table border=\"1\" class=\"dataframe\">\n",
       "  <thead>\n",
       "    <tr style=\"text-align: right;\">\n",
       "      <th></th>\n",
       "      <th>tickers</th>\n",
       "      <th>eps</th>\n",
       "      <th>revenue</th>\n",
       "      <th>price</th>\n",
       "      <th>people</th>\n",
       "    </tr>\n",
       "  </thead>\n",
       "  <tbody>\n",
       "    <tr>\n",
       "      <th>0</th>\n",
       "      <td>GOOGL</td>\n",
       "      <td>27.82</td>\n",
       "      <td>87</td>\n",
       "      <td>845</td>\n",
       "      <td>larry page</td>\n",
       "    </tr>\n",
       "    <tr>\n",
       "      <th>1</th>\n",
       "      <td>WMT</td>\n",
       "      <td>4.61</td>\n",
       "      <td>484</td>\n",
       "      <td>65</td>\n",
       "      <td>n.a.</td>\n",
       "    </tr>\n",
       "    <tr>\n",
       "      <th>2</th>\n",
       "      <td>MSFT</td>\n",
       "      <td>-1.00</td>\n",
       "      <td>85</td>\n",
       "      <td>64</td>\n",
       "      <td>bill gates</td>\n",
       "    </tr>\n",
       "  </tbody>\n",
       "</table>\n",
       "</div>"
      ],
      "text/plain": [
       "  tickers    eps  revenue  price      people\n",
       "0   GOOGL  27.82       87    845  larry page\n",
       "1     WMT   4.61      484     65        n.a.\n",
       "2    MSFT  -1.00       85     64  bill gates"
      ]
     },
     "execution_count": 2,
     "metadata": {},
     "output_type": "execute_result"
    }
   ],
   "source": [
    "# Read only the first 3 rows from the CSV file\n",
    "df = pd.read_csv(\"C:\\\\Users\\\\Vaishob\\\\PycharmProjects\\\\pandas\\\\stock_data.csv\", nrows=3)\n",
    "df"
   ]
  },
  {
   "cell_type": "markdown",
   "id": "5c5ee140",
   "metadata": {},
   "source": [
    "### Handling Missing Data with `na_values` in `read_csv()` \n",
    "\n",
    "The `na_values` argument in `read_csv()` allows you to specify custom strings or values that should be treated as missing (`NaN`). For example, \"not available\" and \"n.a\" in the CSV will be converted to `NaN`.\n",
    "\n",
    "**Key features of `na_values`**:\n",
    "- Allows defining custom representations of missing data.\n",
    "- Ensures consistent handling of missing or invalid data in the DataFrame."
   ]
  },
  {
   "cell_type": "code",
   "execution_count": 3,
   "id": "59d28921",
   "metadata": {},
   "outputs": [
    {
     "data": {
      "text/html": [
       "<div>\n",
       "<style scoped>\n",
       "    .dataframe tbody tr th:only-of-type {\n",
       "        vertical-align: middle;\n",
       "    }\n",
       "\n",
       "    .dataframe tbody tr th {\n",
       "        vertical-align: top;\n",
       "    }\n",
       "\n",
       "    .dataframe thead th {\n",
       "        text-align: right;\n",
       "    }\n",
       "</style>\n",
       "<table border=\"1\" class=\"dataframe\">\n",
       "  <thead>\n",
       "    <tr style=\"text-align: right;\">\n",
       "      <th></th>\n",
       "      <th>tickers</th>\n",
       "      <th>eps</th>\n",
       "      <th>revenue</th>\n",
       "      <th>price</th>\n",
       "      <th>people</th>\n",
       "    </tr>\n",
       "  </thead>\n",
       "  <tbody>\n",
       "    <tr>\n",
       "      <th>0</th>\n",
       "      <td>GOOGL</td>\n",
       "      <td>27.82</td>\n",
       "      <td>87</td>\n",
       "      <td>845</td>\n",
       "      <td>larry page</td>\n",
       "    </tr>\n",
       "    <tr>\n",
       "      <th>1</th>\n",
       "      <td>WMT</td>\n",
       "      <td>4.61</td>\n",
       "      <td>484</td>\n",
       "      <td>65</td>\n",
       "      <td>n.a.</td>\n",
       "    </tr>\n",
       "    <tr>\n",
       "      <th>2</th>\n",
       "      <td>MSFT</td>\n",
       "      <td>-1.00</td>\n",
       "      <td>85</td>\n",
       "      <td>64</td>\n",
       "      <td>bill gates</td>\n",
       "    </tr>\n",
       "    <tr>\n",
       "      <th>3</th>\n",
       "      <td>RIL</td>\n",
       "      <td>NaN</td>\n",
       "      <td>50</td>\n",
       "      <td>1023</td>\n",
       "      <td>mukesh ambani</td>\n",
       "    </tr>\n",
       "    <tr>\n",
       "      <th>4</th>\n",
       "      <td>TATA</td>\n",
       "      <td>5.60</td>\n",
       "      <td>-1</td>\n",
       "      <td>n.a.</td>\n",
       "      <td>ratan tata</td>\n",
       "    </tr>\n",
       "  </tbody>\n",
       "</table>\n",
       "</div>"
      ],
      "text/plain": [
       "  tickers    eps  revenue price         people\n",
       "0   GOOGL  27.82       87   845     larry page\n",
       "1     WMT   4.61      484    65           n.a.\n",
       "2    MSFT  -1.00       85    64     bill gates\n",
       "3    RIL     NaN       50  1023  mukesh ambani\n",
       "4    TATA   5.60       -1  n.a.     ratan tata"
      ]
     },
     "execution_count": 3,
     "metadata": {},
     "output_type": "execute_result"
    }
   ],
   "source": [
    "# Converts \"missing\" and \"unknown\" to NaN in the DataFrame\n",
    "df = pd.read_csv(\"C:\\\\Users\\\\Vaishob\\\\PycharmProjects\\\\pandas\\\\stock_data.csv\", na_values=[\"not available\",\"n.a\"])\n",
    "df"
   ]
  },
  {
   "cell_type": "markdown",
   "id": "621a0490",
   "metadata": {},
   "source": [
    "### Using a Dictionary with `na_values` in `read_csv()`\n",
    "\n",
    "The `na_values` argument can accept a dictionary, allowing you to define custom missing value markers for each column. For example, the `eps` column treats \"not available\" and \"n.a.\" as `NaN`, while the `revenue` column also treats `-1` as missing.\n",
    "\n",
    "**Key Pointers**:\n",
    "- Offers precise control over missing data for specific columns.\n",
    "- Ideal for handling columns with different missing data representations."
   ]
  },
  {
   "cell_type": "code",
   "execution_count": 4,
   "id": "89e8e265",
   "metadata": {},
   "outputs": [
    {
     "data": {
      "text/html": [
       "<div>\n",
       "<style scoped>\n",
       "    .dataframe tbody tr th:only-of-type {\n",
       "        vertical-align: middle;\n",
       "    }\n",
       "\n",
       "    .dataframe tbody tr th {\n",
       "        vertical-align: top;\n",
       "    }\n",
       "\n",
       "    .dataframe thead th {\n",
       "        text-align: right;\n",
       "    }\n",
       "</style>\n",
       "<table border=\"1\" class=\"dataframe\">\n",
       "  <thead>\n",
       "    <tr style=\"text-align: right;\">\n",
       "      <th></th>\n",
       "      <th>tickers</th>\n",
       "      <th>eps</th>\n",
       "      <th>revenue</th>\n",
       "      <th>price</th>\n",
       "      <th>people</th>\n",
       "    </tr>\n",
       "  </thead>\n",
       "  <tbody>\n",
       "    <tr>\n",
       "      <th>0</th>\n",
       "      <td>GOOGL</td>\n",
       "      <td>27.82</td>\n",
       "      <td>87.0</td>\n",
       "      <td>845</td>\n",
       "      <td>larry page</td>\n",
       "    </tr>\n",
       "    <tr>\n",
       "      <th>1</th>\n",
       "      <td>WMT</td>\n",
       "      <td>4.61</td>\n",
       "      <td>484.0</td>\n",
       "      <td>65</td>\n",
       "      <td>n.a.</td>\n",
       "    </tr>\n",
       "    <tr>\n",
       "      <th>2</th>\n",
       "      <td>MSFT</td>\n",
       "      <td>-1.00</td>\n",
       "      <td>85.0</td>\n",
       "      <td>64</td>\n",
       "      <td>bill gates</td>\n",
       "    </tr>\n",
       "    <tr>\n",
       "      <th>3</th>\n",
       "      <td>RIL</td>\n",
       "      <td>NaN</td>\n",
       "      <td>50.0</td>\n",
       "      <td>1023</td>\n",
       "      <td>mukesh ambani</td>\n",
       "    </tr>\n",
       "    <tr>\n",
       "      <th>4</th>\n",
       "      <td>TATA</td>\n",
       "      <td>5.60</td>\n",
       "      <td>NaN</td>\n",
       "      <td>n.a.</td>\n",
       "      <td>ratan tata</td>\n",
       "    </tr>\n",
       "  </tbody>\n",
       "</table>\n",
       "</div>"
      ],
      "text/plain": [
       "  tickers    eps  revenue price         people\n",
       "0   GOOGL  27.82     87.0   845     larry page\n",
       "1     WMT   4.61    484.0    65           n.a.\n",
       "2    MSFT  -1.00     85.0    64     bill gates\n",
       "3    RIL     NaN     50.0  1023  mukesh ambani\n",
       "4    TATA   5.60      NaN  n.a.     ratan tata"
      ]
     },
     "execution_count": 4,
     "metadata": {},
     "output_type": "execute_result"
    }
   ],
   "source": [
    "df = pd.read_csv(\"stock_data.csv\", na_values={\n",
    "    'eps': [\"not available\",\"n.a.\"], # Specifies \"not available\" and \"n.a.\" as NaN for the 'eps' column\n",
    "    'revenue': [\"not available\",\"n.a.\",-1], # Specifies \"not available\", \"n.a.\", and -1 as NaN for the 'revenue' column\n",
    "})\n",
    "df"
   ]
  },
  {
   "cell_type": "markdown",
   "id": "09bbdc5f",
   "metadata": {},
   "source": [
    "### Writing a DataFrame to a CSV File with `to_csv()`\n",
    "\n",
    "The `to_csv()` method exports a DataFrame to a CSV file. Using `index=False` ensures the index is not written as a separate column.\n",
    "\n",
    "**Key features**:\n",
    "- Easily saves a DataFrame to a CSV file.\n",
    "- `index=False` prevents the index from being written, useful when it's not needed.\n",
    "- Customize the output with options like delimiter and more."
   ]
  },
  {
   "cell_type": "code",
   "execution_count": 6,
   "id": "375a55f2",
   "metadata": {},
   "outputs": [],
   "source": [
    "# Writes the DataFrame df to a CSV file named \"new.csv\" at the specified file path, without saving the index as a column\n",
    "df.to_csv('C:\\\\Users\\\\Vaishob\\\\PycharmProjects\\\\pandas\\\\new.csv', index=False)"
   ]
  },
  {
   "cell_type": "code",
   "execution_count": 7,
   "id": "0e5b674d",
   "metadata": {},
   "outputs": [
    {
     "data": {
      "text/plain": [
       "Index(['tickers', 'eps', 'revenue', 'price', 'people'], dtype='object')"
      ]
     },
     "execution_count": 7,
     "metadata": {},
     "output_type": "execute_result"
    }
   ],
   "source": [
    " # Returns the column labels of the DataFrame df as an Index object\n",
    "df.columns"
   ]
  },
  {
   "cell_type": "markdown",
   "id": "39135767",
   "metadata": {},
   "source": [
    "### Exporting Specific Columns with `to_csv()`\n",
    "\n",
    "The `to_csv()` method allows you to export specific columns using the `columns` argument. For example, only the 'tickers' and 'eps` columns are written to the CSV.\n",
    "\n",
    "**Key features**:\n",
    "- Enables selective export of columns.\n",
    "- Saves memory and storage by exporting only the needed data."
   ]
  },
  {
   "cell_type": "code",
   "execution_count": 10,
   "id": "1d32ab93",
   "metadata": {},
   "outputs": [],
   "source": [
    "# Writes only the 'tickers' and 'eps' columns of the DataFrame df to CSV file\n",
    "df.to_csv(\"C:\\\\Users\\\\Vaishob\\\\PycharmProjects\\\\pandas\\\\new.csv\",columns=['tickers','eps'])"
   ]
  },
  {
   "cell_type": "markdown",
   "id": "ebbe934a",
   "metadata": {},
   "source": [
    "### Exporting a DataFrame to CSV Without Column Headers\n",
    "\n",
    "Using `header=False` in the `to_csv()` method prevents column headers from being written to the CSV file, which is useful for appending data or when headers aren't needed.\n",
    "\n",
    "**Key features**:\n",
    "- Provides flexibility when exporting data without headers.\n",
    "- Ideal for appending to existing files without duplicating column names."
   ]
  },
  {
   "cell_type": "code",
   "execution_count": 12,
   "id": "25f92432",
   "metadata": {},
   "outputs": [],
   "source": [
    "# Exports the DataFrame without column headers\n",
    "df.to_csv(\"C:\\\\Users\\\\Vaishob\\\\PycharmProjects\\\\pandas\\\\new.csv\",header=False)"
   ]
  },
  {
   "cell_type": "markdown",
   "id": "187b5ce5",
   "metadata": {
    "collapsed": true
   },
   "source": [
    "### Using the `converters` Argument in `read_excel()`\n",
    "\n",
    "The `converters` argument in `read_excel()` applies custom functions to specific columns while reading an Excel file. For example:\n",
    "* `convert_people_cell` replaces `\"n.a.\"` with `'sam walton'` in the 'people' column.\n",
    "* `convert_eps_cell` replaces `\"not available\"` with `None` in the 'eps' column.\n",
    "\n",
    "**Key features**:\n",
    "- Offers flexibility in transforming column values during import.\n",
    "- Allows custom handling of missing or invalid data when loading the file."
   ]
  },
  {
   "cell_type": "code",
   "execution_count": 15,
   "id": "7ebfca50",
   "metadata": {},
   "outputs": [
    {
     "data": {
      "text/html": [
       "<div>\n",
       "<style scoped>\n",
       "    .dataframe tbody tr th:only-of-type {\n",
       "        vertical-align: middle;\n",
       "    }\n",
       "\n",
       "    .dataframe tbody tr th {\n",
       "        vertical-align: top;\n",
       "    }\n",
       "\n",
       "    .dataframe thead th {\n",
       "        text-align: right;\n",
       "    }\n",
       "</style>\n",
       "<table border=\"1\" class=\"dataframe\">\n",
       "  <thead>\n",
       "    <tr style=\"text-align: right;\">\n",
       "      <th></th>\n",
       "      <th>tickers</th>\n",
       "      <th>eps</th>\n",
       "      <th>revenue</th>\n",
       "      <th>price</th>\n",
       "      <th>people</th>\n",
       "    </tr>\n",
       "  </thead>\n",
       "  <tbody>\n",
       "    <tr>\n",
       "      <th>0</th>\n",
       "      <td>GOOGL</td>\n",
       "      <td>27.82</td>\n",
       "      <td>87</td>\n",
       "      <td>845</td>\n",
       "      <td>larry page</td>\n",
       "    </tr>\n",
       "    <tr>\n",
       "      <th>1</th>\n",
       "      <td>WMT</td>\n",
       "      <td>4.61</td>\n",
       "      <td>484</td>\n",
       "      <td>65</td>\n",
       "      <td>sam walton</td>\n",
       "    </tr>\n",
       "    <tr>\n",
       "      <th>2</th>\n",
       "      <td>MSFT</td>\n",
       "      <td>-1</td>\n",
       "      <td>85</td>\n",
       "      <td>64</td>\n",
       "      <td>bill gates</td>\n",
       "    </tr>\n",
       "    <tr>\n",
       "      <th>3</th>\n",
       "      <td>RIL</td>\n",
       "      <td>not available</td>\n",
       "      <td>50</td>\n",
       "      <td>1023</td>\n",
       "      <td>mukesh ambani</td>\n",
       "    </tr>\n",
       "    <tr>\n",
       "      <th>4</th>\n",
       "      <td>TATA</td>\n",
       "      <td>5.6</td>\n",
       "      <td>-1</td>\n",
       "      <td>n.a.</td>\n",
       "      <td>ratan tata</td>\n",
       "    </tr>\n",
       "  </tbody>\n",
       "</table>\n",
       "</div>"
      ],
      "text/plain": [
       "  tickers            eps  revenue price         people\n",
       "0   GOOGL          27.82       87   845     larry page\n",
       "1     WMT           4.61      484    65     sam walton\n",
       "2    MSFT             -1       85    64     bill gates\n",
       "3    RIL   not available       50  1023  mukesh ambani\n",
       "4    TATA            5.6       -1  n.a.     ratan tata"
      ]
     },
     "execution_count": 15,
     "metadata": {},
     "output_type": "execute_result"
    }
   ],
   "source": [
    "# Replace \"n.a.\" with 'sam walton' in the 'people' column\n",
    "def convert_people_cell(cell):\n",
    "    if cell==\"n.a.\":\n",
    "        return 'sam walton'\n",
    "    return cell\n",
    "\n",
    "# Replace \"not available\" with None in the 'eps' column\n",
    "def convert_eps_cell(cell):\n",
    "    if cell==\"not available\":\n",
    "        return None\n",
    "    return cell\n",
    "\n",
    "df = pd.read_excel(\"C:\\\\Users\\\\Vaishob\\\\PycharmProjects\\\\pandas\\\\stock_data.xlsx\", \"Sheet1\", converters = {\n",
    "    # Reads the Excel file \"stock_data.xlsx\" from \"Sheet1\" and applies custom converters to 'people' and 'eps' columns\n",
    "        'people': convert_people_cell,\n",
    "        'eps': convert_eps_cell\n",
    "    })\n",
    "df"
   ]
  },
  {
   "cell_type": "markdown",
   "id": "f2a513d7",
   "metadata": {},
   "source": [
    "### Writing a DataFrame to Excel with Custom Options\n",
    "\n",
    "The `to_excel()` method exports a DataFrame to an Excel file with custom options:\n",
    "* `sheet_name=\"stocks\"`: Sets the sheet name.\n",
    "* `startrow=1`, `startcol=2`: Begins writing at the second row and third column.\n",
    "* `index=False`: Excludes the index from the output.\n",
    "\n",
    "**Key features**:\n",
    "- Enables flexible placement of data in the Excel sheet.\n",
    "- Useful for appending or leaving space for headers or additional content."
   ]
  },
  {
   "cell_type": "code",
   "execution_count": 17,
   "id": "98dc87ba",
   "metadata": {},
   "outputs": [],
   "source": [
    "# Writes DataFrame to an Excel file \"new.xlsx\" in the \"stocks\" sheet, starting at row 2 and column 3 (0-based indexing), and does not include the index\n",
    "df.to_excel(\"C:\\\\Users\\\\Vaishob\\\\PycharmProjects\\\\pandas\\\\new.xlsx\", sheet_name=\"stocks\", startrow=1, startcol=2, index=False)"
   ]
  },
  {
   "cell_type": "markdown",
   "id": "61e41ef2",
   "metadata": {},
   "source": [
    "### Creating Multiple DataFrames\n",
    "\n",
    "In this example:\n",
    "- `df_stocks` contains stock data (tickers, prices, P/E ratios, and EPS).\n",
    "- `df_weather` contains weather data (date, temperature, and event).\n",
    "\n",
    "**Key features**:\n",
    "- Managing multipe DataFrames allows separate analysis of different datasets.\n",
    "- Ideal for holding diverse data types (e.g. numerical, categorical, dates) in tabular form."
   ]
  },
  {
   "cell_type": "code",
   "execution_count": 18,
   "id": "8dae122e",
   "metadata": {},
   "outputs": [],
   "source": [
    "df_stocks = pd.DataFrame({\n",
    "    'tickers': ['GOOGL', 'WMT', 'MSFT'],\n",
    "    'price': [845, 65, 64],\n",
    "    'pe': [30.37, 14.26, 30.97],\n",
    "    'eps': [27.82, 4.61, 2.12]\n",
    "})\n",
    "\n",
    "df_weather = pd.DataFrame({\n",
    "    'day': ['1/1/2017','1/2/2017','1/3/2017'],\n",
    "    'temperature': [32,35,28],\n",
    "    'event': ['Rain', 'Sunny', 'Snow']\n",
    "})"
   ]
  },
  {
   "cell_type": "markdown",
   "id": "98331669",
   "metadata": {},
   "source": [
    "### Writing Multiple DataFrames to an Excel File\n",
    "\n",
    "Using `ExcelWriter()`, you can write multiple DataFrames to different sheets in the same Excel file:\n",
    "* `df_stocks` is written to the \"stocks\" sheet.\n",
    "* `df_weather` is written to the \"weather\" sheet.\n",
    "\n",
    "**Key features**:\n",
    "- Allows saving multiple DataFrames to one Excel file with separate sheet names.\n",
    "- The `with` context manager ensures the file is properly closed after writing."
   ]
  },
  {
   "cell_type": "code",
   "execution_count": 20,
   "id": "5bcec599",
   "metadata": {},
   "outputs": [],
   "source": [
    "with pd.ExcelWriter('C:\\\\Users\\\\Vaishob\\\\PycharmProjects\\\\pandas\\\\stocks_weather.xlsx') as writer:\n",
    "    # Opens an ExcelWriter object to write to the file \"stocks_weather.xlsx\"\n",
    "    df_stocks.to_excel(writer, sheet_name=\"stocks\") # Writes the df_stocks DataFrame to the \"stocks\" sheet\n",
    "    df_weather.to_excel(writer, sheet_name=\"weather\") # Writes the df_weather DataFrame to the \"weather\" sheet"
   ]
  }
 ],
 "metadata": {
  "kernelspec": {
   "display_name": "Python 3 (ipykernel)",
   "language": "python",
   "name": "python3"
  },
  "language_info": {
   "codemirror_mode": {
    "name": "ipython",
    "version": 3
   },
   "file_extension": ".py",
   "mimetype": "text/x-python",
   "name": "python",
   "nbconvert_exporter": "python",
   "pygments_lexer": "ipython3",
   "version": "3.11.7"
  }
 },
 "nbformat": 4,
 "nbformat_minor": 5
}
