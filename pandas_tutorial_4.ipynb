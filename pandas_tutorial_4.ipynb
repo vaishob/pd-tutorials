{
 "cells": [
  {
   "cell_type": "markdown",
   "id": "d9387054",
   "metadata": {},
   "source": [
    "# Pandas Tutorial 4: Reading and Writing CSV and Excel Files in Pandas\n",
    "\n",
    "Building on the previous tutorial where we explored various ways to create a DataFrame, we now turn our attention to one of the most common tasks in data analysis: reading from and writing to CSV and Excel files. In this tutorial, we will cover how to effectively manage these file formats using Pandas. This includes handling messy data during import, transforming data using converters, and selectively exporting portions of a DataFrame to an Excel file.\n",
    "\n",
    "**Topics covered:**\n",
    "- Introduction\n",
    "- Reading a CSV file using the `read_csv()` method\n",
    "- Skipping rows in a DataFrame using the `skiprows` argument\n",
    "- Importing data from a CSV file with a \"null header\"\n",
    "- Reading a limited number of rows from a CSV file\n",
    "- Cleaning messy data (e.g., replacing \"not available\" and \"n.a.\" with `na_values`)\n",
    "- Replacing values using a dictionary with the `na_values` argument\n",
    "- Writing a DataFrame to a CSV file using the `to_csv()` method\n",
    "- Reading an Excel file using the `read_excel()` method\n",
    "- Using the `converters` argument in the `read_excel()` method\n",
    "- Writing a DataFrame to an Excel file using the `to_excel()` method\n",
    "- Using the `ExcelWriter()` class for more advanced Excel file operations\n",
    "- Overview of all properties for reading and writing Excel and CSV files\n",
    "\n",
    "This tutorial will extend your knowledge from creating DataFrames to efficiently handling real-world data stored in CSV and Excel files, which is a key part of any data science or analytics workflow."
   ]
  },
  {
   "cell_type": "markdown",
   "id": "7432b184",
   "metadata": {},
   "source": [
    "### Reading a CSV File with Limited Rows Using `nrows`\n",
    "\n",
    "The `read_csv()` method allows you to specify how many rows to read from a CSV file using the `nrows` argument. In this case, only the first 3 rows are loaded into the DataFrame, which is useful when working with large datasets where you only need a sample of the data.\n",
    "\n",
    "**Key features of `nrows`**:\n",
    "- It helps optimize memory usage by limiting the number of rows read from a file.\n",
    "- Useful for quick inspection or when testing code on a subset of data before processing the entire dataset."
   ]
  },
  {
   "cell_type": "code",
   "execution_count": 2,
   "id": "a8fff72f",
   "metadata": {
    "scrolled": false
   },
   "outputs": [
    {
     "data": {
      "text/html": [
       "<div>\n",
       "<style scoped>\n",
       "    .dataframe tbody tr th:only-of-type {\n",
       "        vertical-align: middle;\n",
       "    }\n",
       "\n",
       "    .dataframe tbody tr th {\n",
       "        vertical-align: top;\n",
       "    }\n",
       "\n",
       "    .dataframe thead th {\n",
       "        text-align: right;\n",
       "    }\n",
       "</style>\n",
       "<table border=\"1\" class=\"dataframe\">\n",
       "  <thead>\n",
       "    <tr style=\"text-align: right;\">\n",
       "      <th></th>\n",
       "      <th>tickers</th>\n",
       "      <th>eps</th>\n",
       "      <th>revenue</th>\n",
       "      <th>price</th>\n",
       "      <th>people</th>\n",
       "    </tr>\n",
       "  </thead>\n",
       "  <tbody>\n",
       "    <tr>\n",
       "      <th>0</th>\n",
       "      <td>GOOGL</td>\n",
       "      <td>27.82</td>\n",
       "      <td>87</td>\n",
       "      <td>845</td>\n",
       "      <td>larry page</td>\n",
       "    </tr>\n",
       "    <tr>\n",
       "      <th>1</th>\n",
       "      <td>WMT</td>\n",
       "      <td>4.61</td>\n",
       "      <td>484</td>\n",
       "      <td>65</td>\n",
       "      <td>n.a.</td>\n",
       "    </tr>\n",
       "    <tr>\n",
       "      <th>2</th>\n",
       "      <td>MSFT</td>\n",
       "      <td>-1</td>\n",
       "      <td>85</td>\n",
       "      <td>64</td>\n",
       "      <td>bill gates</td>\n",
       "    </tr>\n",
       "    <tr>\n",
       "      <th>3</th>\n",
       "      <td>RIL</td>\n",
       "      <td>not available</td>\n",
       "      <td>50</td>\n",
       "      <td>1023</td>\n",
       "      <td>mukesh ambani</td>\n",
       "    </tr>\n",
       "    <tr>\n",
       "      <th>4</th>\n",
       "      <td>TATA</td>\n",
       "      <td>5.6</td>\n",
       "      <td>-1</td>\n",
       "      <td>n.a.</td>\n",
       "      <td>ratan tata</td>\n",
       "    </tr>\n",
       "  </tbody>\n",
       "</table>\n",
       "</div>"
      ],
      "text/plain": [
       "  tickers            eps  revenue price         people\n",
       "0   GOOGL          27.82       87   845     larry page\n",
       "1     WMT           4.61      484    65           n.a.\n",
       "2    MSFT             -1       85    64     bill gates\n",
       "3    RIL   not available       50  1023  mukesh ambani\n",
       "4    TATA            5.6       -1  n.a.     ratan tata"
      ]
     },
     "execution_count": 2,
     "metadata": {},
     "output_type": "execute_result"
    }
   ],
   "source": [
    "import pandas as pd\n",
    "# Read only the first 3 rows from the CSV file\n",
    "df = pd.read_csv(\"C:\\\\Users\\\\Vaishob\\\\PycharmProjects\\\\pandas\\\\stock_data.csv\", nrows=3)\n",
    "df"
   ]
  },
  {
   "cell_type": "markdown",
   "id": "2ffcced5",
   "metadata": {},
   "source": [
    "### Handling Missing Data with `na_values` in `read_csv()` \n",
    "\n",
    "The `na_values` argument in the `read_csv()` method is used to specify additional strings or values that should be treated as missing data (`NaN`) while reading the file. In this case, the strings \"not available\" and \"n.a\" in the CSV file will be converted to `NaN` in the DataFrame.\n",
    "\n",
    "**Key features of `na_values`**:\n",
    "- It allows you to define custom representations of missing data beyond the default ones.\n",
    "- Helps ensure consistent handling of missing or invalid data in your DataFrame."
   ]
  },
  {
   "cell_type": "code",
   "execution_count": 3,
   "id": "59d28921",
   "metadata": {},
   "outputs": [
    {
     "data": {
      "text/html": [
       "<div>\n",
       "<style scoped>\n",
       "    .dataframe tbody tr th:only-of-type {\n",
       "        vertical-align: middle;\n",
       "    }\n",
       "\n",
       "    .dataframe tbody tr th {\n",
       "        vertical-align: top;\n",
       "    }\n",
       "\n",
       "    .dataframe thead th {\n",
       "        text-align: right;\n",
       "    }\n",
       "</style>\n",
       "<table border=\"1\" class=\"dataframe\">\n",
       "  <thead>\n",
       "    <tr style=\"text-align: right;\">\n",
       "      <th></th>\n",
       "      <th>tickers</th>\n",
       "      <th>eps</th>\n",
       "      <th>revenue</th>\n",
       "      <th>price</th>\n",
       "      <th>people</th>\n",
       "    </tr>\n",
       "  </thead>\n",
       "  <tbody>\n",
       "    <tr>\n",
       "      <th>0</th>\n",
       "      <td>GOOGL</td>\n",
       "      <td>27.82</td>\n",
       "      <td>87</td>\n",
       "      <td>845</td>\n",
       "      <td>larry page</td>\n",
       "    </tr>\n",
       "    <tr>\n",
       "      <th>1</th>\n",
       "      <td>WMT</td>\n",
       "      <td>4.61</td>\n",
       "      <td>484</td>\n",
       "      <td>65</td>\n",
       "      <td>n.a.</td>\n",
       "    </tr>\n",
       "    <tr>\n",
       "      <th>2</th>\n",
       "      <td>MSFT</td>\n",
       "      <td>-1.00</td>\n",
       "      <td>85</td>\n",
       "      <td>64</td>\n",
       "      <td>bill gates</td>\n",
       "    </tr>\n",
       "    <tr>\n",
       "      <th>3</th>\n",
       "      <td>RIL</td>\n",
       "      <td>NaN</td>\n",
       "      <td>50</td>\n",
       "      <td>1023</td>\n",
       "      <td>mukesh ambani</td>\n",
       "    </tr>\n",
       "    <tr>\n",
       "      <th>4</th>\n",
       "      <td>TATA</td>\n",
       "      <td>5.60</td>\n",
       "      <td>-1</td>\n",
       "      <td>n.a.</td>\n",
       "      <td>ratan tata</td>\n",
       "    </tr>\n",
       "  </tbody>\n",
       "</table>\n",
       "</div>"
      ],
      "text/plain": [
       "  tickers    eps  revenue price         people\n",
       "0   GOOGL  27.82       87   845     larry page\n",
       "1     WMT   4.61      484    65           n.a.\n",
       "2    MSFT  -1.00       85    64     bill gates\n",
       "3    RIL     NaN       50  1023  mukesh ambani\n",
       "4    TATA   5.60       -1  n.a.     ratan tata"
      ]
     },
     "execution_count": 3,
     "metadata": {},
     "output_type": "execute_result"
    }
   ],
   "source": [
    "# Converts \"missing\" and \"unknown\" to NaN in the DataFrame\n",
    "df = pd.read_csv(\"C:\\\\Users\\\\Vaishob\\\\PycharmProjects\\\\pandas\\\\stock_data.csv\", na_values=[\"not available\",\"n.a\"])\n",
    "df"
   ]
  },
  {
   "cell_type": "markdown",
   "id": "0fa937fd",
   "metadata": {},
   "source": [
    "### Using a Dictionary with `na_values` in `read_csv()`\n",
    "\n",
    "The `na_values` argument can also accept a dictionary, allowing you to specify different missing value markers for each column. In this example, the `eps` column treats \"not available\" and \"n.a.\" as missing (`NaN`), while the `revenue` column treats \"not available\", \"n.a.\", and `-1` as missing.\n",
    "\n",
    "**Key Pointers about `na_values`**:\n",
    "- Provides fine-grained control over how missing data is handled for each specific column.\n",
    "- Useful when different columns have different representations of missing or invalid data."
   ]
  },
  {
   "cell_type": "code",
   "execution_count": 4,
   "id": "89e8e265",
   "metadata": {},
   "outputs": [
    {
     "data": {
      "text/html": [
       "<div>\n",
       "<style scoped>\n",
       "    .dataframe tbody tr th:only-of-type {\n",
       "        vertical-align: middle;\n",
       "    }\n",
       "\n",
       "    .dataframe tbody tr th {\n",
       "        vertical-align: top;\n",
       "    }\n",
       "\n",
       "    .dataframe thead th {\n",
       "        text-align: right;\n",
       "    }\n",
       "</style>\n",
       "<table border=\"1\" class=\"dataframe\">\n",
       "  <thead>\n",
       "    <tr style=\"text-align: right;\">\n",
       "      <th></th>\n",
       "      <th>tickers</th>\n",
       "      <th>eps</th>\n",
       "      <th>revenue</th>\n",
       "      <th>price</th>\n",
       "      <th>people</th>\n",
       "    </tr>\n",
       "  </thead>\n",
       "  <tbody>\n",
       "    <tr>\n",
       "      <th>0</th>\n",
       "      <td>GOOGL</td>\n",
       "      <td>27.82</td>\n",
       "      <td>87.0</td>\n",
       "      <td>845</td>\n",
       "      <td>larry page</td>\n",
       "    </tr>\n",
       "    <tr>\n",
       "      <th>1</th>\n",
       "      <td>WMT</td>\n",
       "      <td>4.61</td>\n",
       "      <td>484.0</td>\n",
       "      <td>65</td>\n",
       "      <td>n.a.</td>\n",
       "    </tr>\n",
       "    <tr>\n",
       "      <th>2</th>\n",
       "      <td>MSFT</td>\n",
       "      <td>-1.00</td>\n",
       "      <td>85.0</td>\n",
       "      <td>64</td>\n",
       "      <td>bill gates</td>\n",
       "    </tr>\n",
       "    <tr>\n",
       "      <th>3</th>\n",
       "      <td>RIL</td>\n",
       "      <td>NaN</td>\n",
       "      <td>50.0</td>\n",
       "      <td>1023</td>\n",
       "      <td>mukesh ambani</td>\n",
       "    </tr>\n",
       "    <tr>\n",
       "      <th>4</th>\n",
       "      <td>TATA</td>\n",
       "      <td>5.60</td>\n",
       "      <td>NaN</td>\n",
       "      <td>n.a.</td>\n",
       "      <td>ratan tata</td>\n",
       "    </tr>\n",
       "  </tbody>\n",
       "</table>\n",
       "</div>"
      ],
      "text/plain": [
       "  tickers    eps  revenue price         people\n",
       "0   GOOGL  27.82     87.0   845     larry page\n",
       "1     WMT   4.61    484.0    65           n.a.\n",
       "2    MSFT  -1.00     85.0    64     bill gates\n",
       "3    RIL     NaN     50.0  1023  mukesh ambani\n",
       "4    TATA   5.60      NaN  n.a.     ratan tata"
      ]
     },
     "execution_count": 4,
     "metadata": {},
     "output_type": "execute_result"
    }
   ],
   "source": [
    "df = pd.read_csv(\"stock_data.csv\", na_values={\n",
    "    'eps': [\"not available\",\"n.a.\"], # Specifies \"not available\" and \"n.a.\" as NaN for the 'eps' column\n",
    "    'revenue': [\"not available\",\"n.a.\",-1], # Specifies \"not available\", \"n.a.\", and -1 as NaN for the 'revenue' column\n",
    "})\n",
    "df"
   ]
  },
  {
   "cell_type": "markdown",
   "id": "09bbdc5f",
   "metadata": {},
   "source": [
    "### Writing a DataFrame to a CSV File with `to_csv()`\n",
    "\n",
    "The `to_csv()` method in Pandas is used to export a DataFrame to a CSV file. In this case, the `index=False` argument ensures that the index (row labels) is not written as a separate column in the CSV file.\n",
    "\n",
    "**Key features of `to_csv()`**:\n",
    "- Allows you to easily save the contents of a DataFrame to a CSV file.\n",
    "- The `index=False` argument prevents the index from being written, which is helpful when the index is not relevant for the CSV.\n",
    "- You can customize the delimiter and other output options with additional arguments."
   ]
  },
  {
   "cell_type": "code",
   "execution_count": 6,
   "id": "375a55f2",
   "metadata": {},
   "outputs": [],
   "source": [
    "# Writes the DataFrame df to a CSV file named \"new.csv\" at the specified file path, without saving the index as a column\n",
    "df.to_csv('C:\\\\Users\\\\Vaishob\\\\PycharmProjects\\\\pandas\\\\new.csv', index=False)"
   ]
  },
  {
   "cell_type": "code",
   "execution_count": 7,
   "id": "0e5b674d",
   "metadata": {},
   "outputs": [
    {
     "data": {
      "text/plain": [
       "Index(['tickers', 'eps', 'revenue', 'price', 'people'], dtype='object')"
      ]
     },
     "execution_count": 7,
     "metadata": {},
     "output_type": "execute_result"
    }
   ],
   "source": [
    " # Returns the column labels of the DataFrame df as an Index object\n",
    "df.columns"
   ]
  },
  {
   "cell_type": "markdown",
   "id": "a5a09411",
   "metadata": {},
   "source": [
    "### Exporting Specific Columns with `to_csv()`\n",
    "\n",
    "The `to_csv()` method allows you to specify which columns to export by using the `columns` argument. In this case, only the 'tickers' and 'eps' columns are written to the CSV file, ignoring all other columns in the DataFrame.\n",
    "\n",
    "**Key features**:\n",
    "- Allows for selective export of specific columns from the DataFrame.\n",
    "- Helps save memory and storage when only a portion of the DataFrame is needed."
   ]
  },
  {
   "cell_type": "code",
   "execution_count": 10,
   "id": "1d32ab93",
   "metadata": {},
   "outputs": [],
   "source": [
    "# Writes only the 'tickers' and 'eps' columns of the DataFrame df to CSV file\n",
    "df.to_csv(\"C:\\\\Users\\\\Vaishob\\\\PycharmProjects\\\\pandas\\\\new.csv\",columns=['tickers','eps'])"
   ]
  },
  {
   "cell_type": "markdown",
   "id": "36ebd6d0",
   "metadata": {},
   "source": [
    "### Exporting a DataFrame to CSV Without Column Headers\n",
    "\n",
    "The `header=False` argument in the `to_csv()` method prevents the column headers from being written to the CSV file. This is useful when you want to save the data without including the column names, such as when appending to an existing file or when headers are not needed.\n",
    "\n",
    "**Key features**:\n",
    "- Allows for more flexibility when exporting data, especially in scenarios where headers are not required.\n",
    "- Useful for appending data to existing CSV files without repeating the column names."
   ]
  },
  {
   "cell_type": "code",
   "execution_count": 12,
   "id": "25f92432",
   "metadata": {},
   "outputs": [],
   "source": [
    "# Exports the DataFrame without column headers\n",
    "df.to_csv(\"C:\\\\Users\\\\Vaishob\\\\PycharmProjects\\\\pandas\\\\new.csv\",header=False)"
   ]
  },
  {
   "cell_type": "markdown",
   "id": "187b5ce5",
   "metadata": {
    "collapsed": true
   },
   "source": [
    "### Using the `converters` Argument in `read_excel()`\n",
    "\n",
    "The `converters` argument in the `read_excel()` method allows you to apply custom functions to specific columns while reading data from an Excel file. In this example:\n",
    "- The `convert_people_cell` function replaces occurrences of `\"n.a.\"` with `'sam walton'` in the 'people' column.\n",
    "- The `convert_eps_cell` function replaces `\"not available\"` with `None` in the 'eps' column.\n",
    "\n",
    "**Key features**:\n",
    "- Provides flexibility in transforming specific column values during the data import process.\n",
    "- Allows for custom handling of missing or invalid data directly when loading the Excel file."
   ]
  },
  {
   "cell_type": "code",
   "execution_count": 15,
   "id": "7ebfca50",
   "metadata": {},
   "outputs": [
    {
     "data": {
      "text/html": [
       "<div>\n",
       "<style scoped>\n",
       "    .dataframe tbody tr th:only-of-type {\n",
       "        vertical-align: middle;\n",
       "    }\n",
       "\n",
       "    .dataframe tbody tr th {\n",
       "        vertical-align: top;\n",
       "    }\n",
       "\n",
       "    .dataframe thead th {\n",
       "        text-align: right;\n",
       "    }\n",
       "</style>\n",
       "<table border=\"1\" class=\"dataframe\">\n",
       "  <thead>\n",
       "    <tr style=\"text-align: right;\">\n",
       "      <th></th>\n",
       "      <th>tickers</th>\n",
       "      <th>eps</th>\n",
       "      <th>revenue</th>\n",
       "      <th>price</th>\n",
       "      <th>people</th>\n",
       "    </tr>\n",
       "  </thead>\n",
       "  <tbody>\n",
       "    <tr>\n",
       "      <th>0</th>\n",
       "      <td>GOOGL</td>\n",
       "      <td>27.82</td>\n",
       "      <td>87</td>\n",
       "      <td>845</td>\n",
       "      <td>larry page</td>\n",
       "    </tr>\n",
       "    <tr>\n",
       "      <th>1</th>\n",
       "      <td>WMT</td>\n",
       "      <td>4.61</td>\n",
       "      <td>484</td>\n",
       "      <td>65</td>\n",
       "      <td>sam walton</td>\n",
       "    </tr>\n",
       "    <tr>\n",
       "      <th>2</th>\n",
       "      <td>MSFT</td>\n",
       "      <td>-1</td>\n",
       "      <td>85</td>\n",
       "      <td>64</td>\n",
       "      <td>bill gates</td>\n",
       "    </tr>\n",
       "    <tr>\n",
       "      <th>3</th>\n",
       "      <td>RIL</td>\n",
       "      <td>not available</td>\n",
       "      <td>50</td>\n",
       "      <td>1023</td>\n",
       "      <td>mukesh ambani</td>\n",
       "    </tr>\n",
       "    <tr>\n",
       "      <th>4</th>\n",
       "      <td>TATA</td>\n",
       "      <td>5.6</td>\n",
       "      <td>-1</td>\n",
       "      <td>n.a.</td>\n",
       "      <td>ratan tata</td>\n",
       "    </tr>\n",
       "  </tbody>\n",
       "</table>\n",
       "</div>"
      ],
      "text/plain": [
       "  tickers            eps  revenue price         people\n",
       "0   GOOGL          27.82       87   845     larry page\n",
       "1     WMT           4.61      484    65     sam walton\n",
       "2    MSFT             -1       85    64     bill gates\n",
       "3    RIL   not available       50  1023  mukesh ambani\n",
       "4    TATA            5.6       -1  n.a.     ratan tata"
      ]
     },
     "execution_count": 15,
     "metadata": {},
     "output_type": "execute_result"
    }
   ],
   "source": [
    "# Replace \"n.a.\" with 'sam walton' in the 'people' column\n",
    "def convert_people_cell(cell):\n",
    "    if cell==\"n.a.\":\n",
    "        return 'sam walton'\n",
    "    return cell\n",
    "\n",
    "# Replace \"not available\" with None in the 'eps' column\n",
    "def convert_eps_cell(cell):\n",
    "    if cell==\"not available\":\n",
    "        return None\n",
    "    return cell\n",
    "\n",
    "df = pd.read_excel(\"C:\\\\Users\\\\Vaishob\\\\PycharmProjects\\\\pandas\\\\stock_data.xlsx\", \"Sheet1\", converters = {\n",
    "    # Reads the Excel file \"stock_data.xlsx\" from \"Sheet1\" and applies custom converters to 'people' and 'eps' columns\n",
    "        'people': convert_people_cell,\n",
    "        'eps': convert_eps_cell\n",
    "    })\n",
    "df"
   ]
  },
  {
   "cell_type": "markdown",
   "id": "f2a513d7",
   "metadata": {},
   "source": [
    "### Writing a DataFrame to Excel with Custom Options\n",
    "\n",
    "The `to_excel()` method is used to export a DataFrame to an Excel file. The options used here:\n",
    "- `sheet_name=\"stocks\"`: Specifies the name of the sheet where the data will be written.\n",
    "- `startrow=1`: Starts writing the DataFrame at the second row (Excel is 1-based, but Pandas uses 0-based indexing).\n",
    "- `startcol=2`: Starts writing at the third column (also 0-based indexing).\n",
    "- `index=False`: Prevents the index from being written to the file.\n",
    "\n",
    "**Key features**:\n",
    "- Allows for flexible placement of the DataFrame within the Excel sheet.\n",
    "- Useful when you want to append data or leave space at the top of the sheet for headers or additional content."
   ]
  },
  {
   "cell_type": "code",
   "execution_count": 17,
   "id": "98dc87ba",
   "metadata": {},
   "outputs": [],
   "source": [
    "# Writes DataFrame to an Excel file \"new.xlsx\" in the \"stocks\" sheet, starting at row 2 and column 3 (0-based indexing), and does not include the index\n",
    "df.to_excel(\"C:\\\\Users\\\\Vaishob\\\\PycharmProjects\\\\pandas\\\\new.xlsx\", sheet_name=\"stocks\", startrow=1, startcol=2, index=False)"
   ]
  },
  {
   "cell_type": "markdown",
   "id": "61e41ef2",
   "metadata": {},
   "source": [
    "### Creating Multiple DataFrames\n",
    "\n",
    "In this example:\n",
    "- `df_stocks` holds stock market data with columns for stock tickers, prices, price-to-earnings ratios, and earnings per share.\n",
    "- `df_weather` holds weather data with columns for the date, temperature, and weather event.\n",
    "\n",
    "**Key features**:\n",
    "- Creating multiple DataFrames allows you to manage and analyze different sets of data separately.\n",
    "- DataFrames can hold diverse types of data (e.g., numerical, categorical, dates) and are ideal for tabular data analysis."
   ]
  },
  {
   "cell_type": "code",
   "execution_count": 18,
   "id": "8dae122e",
   "metadata": {},
   "outputs": [],
   "source": [
    "df_stocks = pd.DataFrame({\n",
    "    'tickers': ['GOOGL', 'WMT', 'MSFT'],\n",
    "    'price': [845, 65, 64],\n",
    "    'pe': [30.37, 14.26, 30.97],\n",
    "    'eps': [27.82, 4.61, 2.12]\n",
    "})\n",
    "\n",
    "df_weather = pd.DataFrame({\n",
    "    'day': ['1/1/2017','1/2/2017','1/3/2017'],\n",
    "    'temperature': [32,35,28],\n",
    "    'event': ['Rain', 'Sunny', 'Snow']\n",
    "})"
   ]
  },
  {
   "cell_type": "markdown",
   "id": "4a71eba6",
   "metadata": {},
   "source": [
    "### Writing Multiple DataFrames to an Excel File\n",
    "\n",
    "Using `ExcelWriter()`, you can write multiple DataFrames to different sheets within the same Excel file. In this example:\n",
    "- The `df_stocks` DataFrame is written to the \"stocks\" sheet.\n",
    "- The `df_weather` DataFrame is written to the \"weather\" sheet.\n",
    "\n",
    "**Key features**:\n",
    "- Allows for writing multiple DataFrames to a single Excel file with different sheet names.\n",
    "- The context manager (`with`) ensures that the file is properly closed after the writing process."
   ]
  },
  {
   "cell_type": "code",
   "execution_count": 20,
   "id": "5bcec599",
   "metadata": {},
   "outputs": [],
   "source": [
    "with pd.ExcelWriter('C:\\\\Users\\\\Vaishob\\\\PycharmProjects\\\\pandas\\\\stocks_weather.xlsx') as writer:\n",
    "    # Opens an ExcelWriter object to write to the file \"stocks_weather.xlsx\"\n",
    "    df_stocks.to_excel(writer, sheet_name=\"stocks\") # Writes the df_stocks DataFrame to the \"stocks\" sheet\n",
    "    df_weather.to_excel(writer, sheet_name=\"weather\") # Writes the df_weather DataFrame to the \"weather\" sheet"
   ]
  }
 ],
 "metadata": {
  "kernelspec": {
   "display_name": "Python 3 (ipykernel)",
   "language": "python",
   "name": "python3"
  },
  "language_info": {
   "codemirror_mode": {
    "name": "ipython",
    "version": 3
   },
   "file_extension": ".py",
   "mimetype": "text/x-python",
   "name": "python",
   "nbconvert_exporter": "python",
   "pygments_lexer": "ipython3",
   "version": "3.11.7"
  }
 },
 "nbformat": 4,
 "nbformat_minor": 5
}
